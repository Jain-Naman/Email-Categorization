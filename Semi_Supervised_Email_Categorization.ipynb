{
 "cells": [
  {
   "cell_type": "markdown",
   "metadata": {
    "id": "xsTuAondCK4A"
   },
   "source": [
    "# Semi Supervised Email Categorization"
   ]
  },
  {
   "cell_type": "markdown",
   "metadata": {},
   "source": [
    "## Importing required libraries"
   ]
  },
  {
   "cell_type": "code",
   "execution_count": 1,
   "metadata": {
    "id": "Z1b1HueL1XEA"
   },
   "outputs": [],
   "source": [
    "import pandas as pd\n",
    "import numpy as np\n",
    "import matplotlib.pyplot as plt\n",
    "import re\n",
    "import string\n",
    "\n",
    "from sklearn.feature_extraction.text import TfidfVectorizer, ENGLISH_STOP_WORDS\n",
    "from sklearn.preprocessing import normalize\n",
    "from sklearn.decomposition import PCA\n",
    "from sklearn.model_selection import train_test_split\n",
    "from sklearn.preprocessing import normalize\n",
    "from sklearn.cluster import KMeans, MiniBatchKMeans, DBSCAN\n",
    "from sklearn.metrics import silhouette_samples, silhouette_score\n",
    "from sklearn.decomposition import PCA\n",
    "\n",
    "from gensim.models import Word2Vec\n",
    "\n",
    "\n",
    "import nltk\n",
    "from nltk.corpus import stopwords\n",
    "from nltk import word_tokenize\n",
    "\n",
    "# nltk.download(\"stopwords\")\n",
    "# nltk.download(\"punkt\")\n",
    "\n",
    "SEED = 56\n",
    "np.random.seed(SEED)"
   ]
  },
  {
   "cell_type": "markdown",
   "metadata": {
    "id": "tsC1YxubCYvD"
   },
   "source": [
    "## 02 Sampling the dataset`"
   ]
  },
  {
   "cell_type": "code",
   "execution_count": 30,
   "metadata": {
    "id": "-zzAic_yCYrd"
   },
   "outputs": [],
   "source": [
    "# emails_dataframe = pd.read_csv('emails.csv')\n",
    "# emails_sample = emails_dataframe.sample(n = 3000)\n",
    "# emails_sample.to_csv('emails_3000.csv', index=False)\n",
    "emails = pd.read_csv('emails_3000.csv')"
   ]
  },
  {
   "cell_type": "markdown",
   "metadata": {
    "id": "wZOoG01xCYpO"
   },
   "source": [
    "## 03 Preprocessing"
   ]
  },
  {
   "cell_type": "code",
   "execution_count": 31,
   "metadata": {
    "scrolled": true
   },
   "outputs": [
    {
     "name": "stdout",
     "output_type": "stream",
     "text": [
      "Message-ID: <1899108.1075841428486.JavaMail.evans@thyme>\n",
      "Date: Mon, 4 Feb 2002 08:20:43 -0800 (PST)\n",
      "From: jennifer.mcquade@enron.com\n",
      "To: caroline.abramo@enron.com, tim.belden@enron.com, robert.benson@enron.com, \n",
      "\tf..calger@enron.com, paul.choi@enron.com, chad.clark@enron.com, \n",
      "\tmike.cowan@enron.com, mike.curry@enron.com, dana.davis@enron.com, \n",
      "\tchris.dorland@enron.com, dale.furrow@enron.com, n..gilbert@enron.com, \n",
      "\tfred.lagrasta@enron.com, john.llodra@enron.com, \n",
      "\tmichael.mcdonald@enron.com, h..otto@enron.com, m..presto@enron.com, \n",
      "\treagan.rorschach@enron.com, stewart.rosman@enron.com, \n",
      "\tdouglas.smith@enron.com, paul.thomas@enron.com, \n",
      "\tbarry.tycholiz@enron.com, larry.valderrama@enron.com, \n",
      "\tfrank.vickers@enron.com, greg.whalley@enron.com, \n",
      "\tjohn.zufferli@enron.com\n",
      "Subject: More Dial-in Numbers for 10:30 Meeting\n",
      "Mime-Version: 1.0\n",
      "Content-Type: text/plain; charset=us-ascii\n",
      "Content-Transfer-Encoding: 7bit\n",
      "X-From: Mcquade, Jennifer </O=ENRON/OU=NA/CN=RECIPIENTS/CN=JMCQUAD2>\n",
      "X-To: Abramo, Caroline </O=ENRON/OU=NA/CN=RECIPIENTS/CN=Cabramo>, Belden, Tim </O=ENRON/OU=NA/CN=RECIPIENTS/CN=Tbelden>, Benson, Robert </O=ENRON/OU=NA/CN=RECIPIENTS/CN=Rbenson>, Calger, Christopher F. </O=ENRON/OU=NA/CN=RECIPIENTS/CN=Ccalger>, Choi, Paul </O=ENRON/OU=NA/CN=RECIPIENTS/CN=Pchoi>, Clark, Chad </O=ENRON/OU=NA/CN=RECIPIENTS/CN=Cclark5>, Cowan, Mike </O=ENRON/OU=NA/CN=RECIPIENTS/CN=Mcowan1>, Curry, Mike </O=ENRON/OU=NA/CN=RECIPIENTS/CN=Mcurry>, Davis, Mark Dana </O=ENRON/OU=NA/CN=RECIPIENTS/CN=Mdavis>, Dorland, Chris </O=ENRON/OU=NA/CN=RECIPIENTS/CN=Cdorlan>, Furrow, Dale </O=ENRON/OU=NA/CN=RECIPIENTS/CN=Dfurrow>, Gilbert, George N. </O=ENRON/OU=NA/CN=RECIPIENTS/CN=Ggilber>, Lagrasta, Fred </O=ENRON/OU=NA/CN=RECIPIENTS/CN=Flagras>, Llodra, John </O=ENRON/OU=NA/CN=RECIPIENTS/CN=Jllodra>, Mcdonald, Michael </O=ENRON/OU=NA/CN=RECIPIENTS/CN=Mmcdona>, Otto, Charles H. </O=ENRON/OU=NA/CN=RECIPIENTS/CN=Cotto>, Presto, Kevin M. </O=ENRON/OU=NA/CN=RECIPIENTS/CN=Kpresto>, Rorschach, Reagan </O=ENRON/OU=NA/CN=RECIPIENTS/CN=Rrorscha>, Rosman, Stewart </O=ENRON/OU=NA/CN=RECIPIENTS/CN=Srosman>, SMITH, Douglas </O=ENRON/OU=NA/CN=RECIPIENTS/CN=Gwaddr/cn=HQ3.BR1.Douglas Smith>, Thomas, Paul </O=ENRON/OU=NA/CN=RECIPIENTS/CN=Notesaddr/cn=341ccca1-a2b59bfc-80256903-4e3af6>, Tycholiz, Barry </O=ENRON/OU=NA/CN=RECIPIENTS/CN=Btychol>, Valderrama, Larry </O=ENRON/OU=NA/CN=RECIPIENTS/CN=Lvalder>, Vickers, Frank </O=ENRON/OU=NA/CN=RECIPIENTS/CN=Fvicker>, Whalley, Greg </O=ENRON/OU=NA/CN=RECIPIENTS/CN=Gwhalle>, Zufferli, John </O=ENRON/OU=NA/CN=RECIPIENTS/CN=Jzuffer>\n",
      "X-cc: \n",
      "X-bcc: \n",
      "X-Folder: \\ExMerge - Presto, Kevin M.\\Deleted Items\n",
      "X-Origin: PRESTO-K\n",
      "X-FileName: kevin presto 2-7-02.pst\n",
      "\n",
      "Just in case the first number I sent out doesn't work....\n",
      "\n",
      " -----Original Message-----\n",
      "From: \tRosado, Jennifer  \n",
      "Sent:\tFriday, February 01, 2002 3:56 PM\n",
      "To:\tMcquade, Jennifer\n",
      "Subject:\tRE: Conf Room\n",
      "\n",
      "It looks like 713-584 are the new prefix's, but they are as follows:\n",
      "\n",
      "713-584-1091\n",
      "713-584-1093\n",
      "713-584-1050\n",
      "713-584-1092\n",
      "\n",
      "I've not been in that room, so I would guess that the first number would be sufficient.\n"
     ]
    }
   ],
   "source": [
    "sample_email = emails['message'][0]\n",
    "print(sample_email)"
   ]
  },
  {
   "cell_type": "code",
   "execution_count": 32,
   "metadata": {},
   "outputs": [],
   "source": [
    "email_extensions = ['.com','.org','.in']\n",
    "\n",
    "def parse_raw_message(raw_message):\n",
    "    lines = raw_message.split('\\n')\n",
    "    email = {}\n",
    "    message = ''\n",
    "    keys_to_extract = ['from', 'to','subject']\n",
    "    \n",
    "    for line in lines:\n",
    "        if '****************************' in line:\n",
    "            break\n",
    "        \n",
    "        if 'Original Message' in line:\n",
    "            break\n",
    "        \n",
    "        if ':' not in line:\n",
    "            if not(any(x in line for x in email_extensions)):\n",
    "                temp = line.strip()\n",
    "                temp = temp.lower()\n",
    "                temp = re.sub(\"[A-Za-z]+\", lambda ele: \" \" + ele[0] + \" \", temp)\n",
    "                temp = re.sub(r\"\\s+\", \" \", temp)  # Remove multiple spaces in content\n",
    "                temp = re.sub(r\"\\w+…|…\", \"\", temp)  # Remove ellipsis (and last word)\n",
    "                temp = re.sub('\\d','',temp)\n",
    "                temp = temp.translate(str.maketrans('','',string.punctuation))\n",
    "                message += temp\n",
    "                email['body'] = message    \n",
    "        else:\n",
    "            pair = line.split(':', maxsplit=1)\n",
    "            key = pair[0].lower()\n",
    "            value = pair[1].strip()\n",
    "            # value = re.sub('\\d','', value)\n",
    "            value = value.translate(str.maketrans('','',string.punctuation))\n",
    "            value = value.lower()\n",
    "            if key in keys_to_extract:\n",
    "                if key not in email.keys():\n",
    "                    email[key] = value\n",
    "    return email\n",
    "\n",
    "def map_to_list(emails, key):\n",
    "    results = []\n",
    "    for email in emails:\n",
    "        if key not in email:\n",
    "            results.append('')\n",
    "        else:\n",
    "            results.append(email[key])\n",
    "    return results\n",
    "\n",
    "def parse_into_emails(messages):\n",
    "    emails = [parse_raw_message(message) for message in messages]\n",
    "    return {\n",
    "        'from': map_to_list(emails, 'from'),\n",
    "        'to': map_to_list(emails, 'to'),\n",
    "        'subject': map_to_list(emails, 'subject'),\n",
    "        'body': map_to_list(emails, 'body')\n",
    "    } "
   ]
  },
  {
   "cell_type": "code",
   "execution_count": 33,
   "metadata": {},
   "outputs": [
    {
     "name": "stdout",
     "output_type": "stream",
     "text": [
      "(3000, 4)\n"
     ]
    },
    {
     "data": {
      "text/html": [
       "<div>\n",
       "<style scoped>\n",
       "    .dataframe tbody tr th:only-of-type {\n",
       "        vertical-align: middle;\n",
       "    }\n",
       "\n",
       "    .dataframe tbody tr th {\n",
       "        vertical-align: top;\n",
       "    }\n",
       "\n",
       "    .dataframe thead th {\n",
       "        text-align: right;\n",
       "    }\n",
       "</style>\n",
       "<table border=\"1\" class=\"dataframe\">\n",
       "  <thead>\n",
       "    <tr style=\"text-align: right;\">\n",
       "      <th></th>\n",
       "      <th>from</th>\n",
       "      <th>to</th>\n",
       "      <th>subject</th>\n",
       "      <th>body</th>\n",
       "    </tr>\n",
       "  </thead>\n",
       "  <tbody>\n",
       "    <tr>\n",
       "      <th>0</th>\n",
       "      <td>jennifermcquadeenroncom</td>\n",
       "      <td>carolineabramoenroncom timbeldenenroncom rober...</td>\n",
       "      <td>more dialin numbers for 1030 meeting</td>\n",
       "      <td>just in case the first number i sent out does...</td>\n",
       "    </tr>\n",
       "    <tr>\n",
       "      <th>1</th>\n",
       "      <td>stevenkeanenroncom</td>\n",
       "      <td>bernadettehawkinsenroncom</td>\n",
       "      <td>constellation to build major plant in californ...</td>\n",
       "      <td>decade  over a  decade  get over  pages of da...</td>\n",
       "    </tr>\n",
       "    <tr>\n",
       "      <th>2</th>\n",
       "      <td>davidrosenbergenroncom</td>\n",
       "      <td>rodhayslettenroncom robertkilmerenroncom</td>\n",
       "      <td>by land or by sea</td>\n",
       "      <td>kilmer stopped in to discuss where we are on ...</td>\n",
       "    </tr>\n",
       "    <tr>\n",
       "      <th>3</th>\n",
       "      <td>jeffdasovichenroncom</td>\n",
       "      <td>dsteffesenroncom paulkaufmanenroncom dasovichj...</td>\n",
       "      <td>re sbx2 78  hearing canceled</td>\n",
       "      <td>thanks  scott  though the chances of re  kind...</td>\n",
       "    </tr>\n",
       "    <tr>\n",
       "      <th>4</th>\n",
       "      <td>mikemcconnellenroncom</td>\n",
       "      <td>richardharperenroncom</td>\n",
       "      <td>re</td>\n",
       "      <td>richard  life does move on  what is malcomb t...</td>\n",
       "    </tr>\n",
       "  </tbody>\n",
       "</table>\n",
       "</div>"
      ],
      "text/plain": [
       "                      from                                                 to  \\\n",
       "0  jennifermcquadeenroncom  carolineabramoenroncom timbeldenenroncom rober...   \n",
       "1       stevenkeanenroncom                          bernadettehawkinsenroncom   \n",
       "2   davidrosenbergenroncom           rodhayslettenroncom robertkilmerenroncom   \n",
       "3     jeffdasovichenroncom  dsteffesenroncom paulkaufmanenroncom dasovichj...   \n",
       "4    mikemcconnellenroncom                              richardharperenroncom   \n",
       "\n",
       "                                             subject  \\\n",
       "0               more dialin numbers for 1030 meeting   \n",
       "1  constellation to build major plant in californ...   \n",
       "2                                  by land or by sea   \n",
       "3                       re sbx2 78  hearing canceled   \n",
       "4                                                 re   \n",
       "\n",
       "                                                body  \n",
       "0   just in case the first number i sent out does...  \n",
       "1   decade  over a  decade  get over  pages of da...  \n",
       "2   kilmer stopped in to discuss where we are on ...  \n",
       "3   thanks  scott  though the chances of re  kind...  \n",
       "4   richard  life does move on  what is malcomb t...  "
      ]
     },
     "execution_count": 33,
     "metadata": {},
     "output_type": "execute_result"
    }
   ],
   "source": [
    "email_data = pd.DataFrame(parse_into_emails(emails['message']))\n",
    "print(email_data.shape)\n",
    "email_data.head()"
   ]
  },
  {
   "cell_type": "code",
   "execution_count": 34,
   "metadata": {},
   "outputs": [],
   "source": [
    "email_data = email_data[email_data['body'] != '']"
   ]
  },
  {
   "cell_type": "code",
   "execution_count": 35,
   "metadata": {},
   "outputs": [
    {
     "data": {
      "text/plain": [
       "(2874, 4)"
      ]
     },
     "execution_count": 35,
     "metadata": {},
     "output_type": "execute_result"
    }
   ],
   "source": [
    "email_data.shape"
   ]
  },
  {
   "cell_type": "code",
   "execution_count": 36,
   "metadata": {},
   "outputs": [],
   "source": [
    "def top_features_tfidf(row, features, top = 20):\n",
    "    top_ids = np.argsort(row)[::-1][:top]\n",
    "    top_features = [(features[i], row[i]) for i in top_ids]\n",
    "    return pd.DataFrame(top_features, columns=['features', 'score'])\n",
    "\n",
    "def top_features_in_document(X, features, row_id, top = 25):\n",
    "    row = np.squeeze(X[row_id].toarray())\n",
    "    return top_features_tfidf(row, features, top)\n",
    "\n",
    "def top_features_corpus(X, features, group_ids = None, min_tfidf = 0.1, top = 20):\n",
    "    if group_ids:\n",
    "        doc = X[group_ids].toarray()\n",
    "    else:\n",
    "        doc = X.toarray()\n",
    "        \n",
    "    doc[doc < min_tfidf] = 0\n",
    "    tfidf_means = np.mean(doc, axis=0)\n",
    "    return top_features_tfidf(tfidf_means, features, top)"
   ]
  },
  {
   "cell_type": "code",
   "execution_count": 37,
   "metadata": {},
   "outputs": [],
   "source": [
    "stop_words = ENGLISH_STOP_WORDS.union(['com','enron','ect','hou','thanks','attached','mail','email','week','image','doc','fw','fwd','know'])\n",
    "vect = TfidfVectorizer(stop_words=stop_words, analyzer='word', min_df=2, max_df=0.5)\n",
    "X = vect.fit_transform(email_data['body'])"
   ]
  },
  {
   "cell_type": "code",
   "execution_count": 38,
   "metadata": {},
   "outputs": [
    {
     "data": {
      "text/plain": [
       "(2874, 12773)"
      ]
     },
     "execution_count": 38,
     "metadata": {},
     "output_type": "execute_result"
    }
   ],
   "source": [
    "X.shape"
   ]
  },
  {
   "cell_type": "code",
   "execution_count": 39,
   "metadata": {},
   "outputs": [
    {
     "data": {
      "text/html": [
       "<div>\n",
       "<style scoped>\n",
       "    .dataframe tbody tr th:only-of-type {\n",
       "        vertical-align: middle;\n",
       "    }\n",
       "\n",
       "    .dataframe tbody tr th {\n",
       "        vertical-align: top;\n",
       "    }\n",
       "\n",
       "    .dataframe thead th {\n",
       "        text-align: right;\n",
       "    }\n",
       "</style>\n",
       "<table border=\"1\" class=\"dataframe\">\n",
       "  <thead>\n",
       "    <tr style=\"text-align: right;\">\n",
       "      <th></th>\n",
       "      <th>features</th>\n",
       "      <th>score</th>\n",
       "    </tr>\n",
       "  </thead>\n",
       "  <tbody>\n",
       "    <tr>\n",
       "      <th>0</th>\n",
       "      <td>constellation</td>\n",
       "      <td>0.546699</td>\n",
       "    </tr>\n",
       "    <tr>\n",
       "      <th>1</th>\n",
       "      <td>plant</td>\n",
       "      <td>0.366400</td>\n",
       "    </tr>\n",
       "    <tr>\n",
       "      <th>2</th>\n",
       "      <td>nuclear</td>\n",
       "      <td>0.271199</td>\n",
       "    </tr>\n",
       "    <tr>\n",
       "      <th>3</th>\n",
       "      <td>energy</td>\n",
       "      <td>0.171742</td>\n",
       "    </tr>\n",
       "    <tr>\n",
       "      <th>4</th>\n",
       "      <td>scientech</td>\n",
       "      <td>0.162747</td>\n",
       "    </tr>\n",
       "  </tbody>\n",
       "</table>\n",
       "</div>"
      ],
      "text/plain": [
       "        features     score\n",
       "0  constellation  0.546699\n",
       "1          plant  0.366400\n",
       "2        nuclear  0.271199\n",
       "3         energy  0.171742\n",
       "4      scientech  0.162747"
      ]
     },
     "metadata": {},
     "output_type": "display_data"
    }
   ],
   "source": [
    "features = vect.get_feature_names_out()\n",
    "display(top_features_in_document(X, features, 1, 5))"
   ]
  },
  {
   "cell_type": "code",
   "execution_count": 40,
   "metadata": {},
   "outputs": [
    {
     "data": {
      "text/html": [
       "<div>\n",
       "<style scoped>\n",
       "    .dataframe tbody tr th:only-of-type {\n",
       "        vertical-align: middle;\n",
       "    }\n",
       "\n",
       "    .dataframe tbody tr th {\n",
       "        vertical-align: top;\n",
       "    }\n",
       "\n",
       "    .dataframe thead th {\n",
       "        text-align: right;\n",
       "    }\n",
       "</style>\n",
       "<table border=\"1\" class=\"dataframe\">\n",
       "  <thead>\n",
       "    <tr style=\"text-align: right;\">\n",
       "      <th></th>\n",
       "      <th>features</th>\n",
       "      <th>score</th>\n",
       "    </tr>\n",
       "  </thead>\n",
       "  <tbody>\n",
       "    <tr>\n",
       "      <th>0</th>\n",
       "      <td>let</td>\n",
       "      <td>0.008266</td>\n",
       "    </tr>\n",
       "    <tr>\n",
       "      <th>1</th>\n",
       "      <td>schedule</td>\n",
       "      <td>0.008226</td>\n",
       "    </tr>\n",
       "    <tr>\n",
       "      <th>2</th>\n",
       "      <td>corp</td>\n",
       "      <td>0.008002</td>\n",
       "    </tr>\n",
       "    <tr>\n",
       "      <th>3</th>\n",
       "      <td>deal</td>\n",
       "      <td>0.007757</td>\n",
       "    </tr>\n",
       "    <tr>\n",
       "      <th>4</th>\n",
       "      <td>gas</td>\n",
       "      <td>0.007280</td>\n",
       "    </tr>\n",
       "  </tbody>\n",
       "</table>\n",
       "</div>"
      ],
      "text/plain": [
       "   features     score\n",
       "0       let  0.008266\n",
       "1  schedule  0.008226\n",
       "2      corp  0.008002\n",
       "3      deal  0.007757\n",
       "4       gas  0.007280"
      ]
     },
     "execution_count": 40,
     "metadata": {},
     "output_type": "execute_result"
    }
   ],
   "source": [
    "top_features_corpus(X, features, top=5)"
   ]
  },
  {
   "cell_type": "code",
   "execution_count": 41,
   "metadata": {},
   "outputs": [],
   "source": [
    "def top_feats_per_cluster(X, y, features, min_tfidf=0.1, top_n=20):\n",
    "    dfs = []\n",
    "\n",
    "    labels = np.unique(y)\n",
    "    for label in labels:\n",
    "        ids = np.where(y==label) \n",
    "        feats_df = top_features_corpus(X, features, ids, min_tfidf=min_tfidf, top=top_n)\n",
    "        feats_df.label = label\n",
    "        dfs.append(feats_df)\n",
    "    return dfs\n",
    "\n",
    "def plot_tfidf_classfeats_h(dfs):\n",
    "    fig = plt.figure(figsize=(20, 10), facecolor=\"w\")\n",
    "    x = np.arange(len(dfs[0]))\n",
    "    for i, df in enumerate(dfs):\n",
    "        ax = fig.add_subplot(1, len(dfs), i+1)\n",
    "        ax.spines[\"top\"].set_visible(False)\n",
    "        ax.spines[\"right\"].set_visible(False)\n",
    "        ax.set_frame_on(False)\n",
    "        ax.get_xaxis().tick_bottom()\n",
    "        ax.get_yaxis().tick_left()\n",
    "        ax.set_xlabel(\"Tf-Idf Score\", labelpad=16, fontsize=14)\n",
    "        ax.set_title(\"cluster = \" + str(df.label), fontsize=16)\n",
    "        ax.ticklabel_format(axis='x', style='sci', scilimits=(-2,2))\n",
    "        ax.barh(x, df.score, align='center', color='#7530FF')\n",
    "        ax.set_yticks(x)\n",
    "        ax.set_ylim([-1, x[-1]+1])\n",
    "        yticks = ax.set_yticklabels(df.features)\n",
    "        plt.subplots_adjust(bottom=0.09, right=0.97, left=0.15, top=0.95, wspace=0.52)\n",
    "    plt.show()"
   ]
  },
  {
   "cell_type": "code",
   "execution_count": 42,
   "metadata": {},
   "outputs": [],
   "source": [
    "from sklearn.cluster import KMeans, MiniBatchKMeans\n",
    "\n",
    "n_clusters = 4\n",
    "clf = KMeans(n_clusters=n_clusters, max_iter=200, init='k-means++', n_init=1, algorithm='full')\n",
    "labels = clf.fit_predict(X)"
   ]
  },
  {
   "cell_type": "code",
   "execution_count": 43,
   "metadata": {},
   "outputs": [
    {
     "data": {
      "image/png": "[encoded data removed]",
      "text/plain": [
       "<Figure size 1440x720 with 4 Axes>"
      ]
     },
     "metadata": {},
     "output_type": "display_data"
    }
   ],
   "source": [
    "dfs = top_feats_per_cluster(X, labels, features, top_n=20)\n",
    "plot_tfidf_classfeats_h(dfs)"
   ]
  },
  {
   "cell_type": "code",
   "execution_count": 49,
   "metadata": {},
   "outputs": [],
   "source": [
    "def create_dataset_for_model(X, features, dfs, original_email_data, n_clusters, top = 20):\n",
    "    labels = []\n",
    "    for i in range(len(original_email_data)):\n",
    "        top_features = top_features_in_document(X, features, i, top=top)\n",
    "        common_sum_dict = {}\n",
    "        \n",
    "        for j in range(n_clusters):\n",
    "            common_features = set(top_features['features']).intersection(set(dfs[j]['features']))\n",
    "            if len(common_features) == 0:\n",
    "                common_sum_dict[j] = 0\n",
    "            else:\n",
    "                common_sum_dict[j] = sum(top_features.loc[top_features['features'].isin(common_features)]['score'])\n",
    "        \n",
    "        max_cluster = max(common_sum_dict, key=lambda x: common_sum_dict[x])\n",
    "        if common_sum_dict[max_cluster] < 0.01:\n",
    "            label = 'other'\n",
    "        else:\n",
    "            label = dfs[max_cluster]['features'][0]\n",
    "            if label == 'let':\n",
    "                label = 'deal'\n",
    "        \n",
    "        labels.append(label)\n",
    "    \n",
    "    return {\n",
    "        'data': original_email_data,\n",
    "        'label': labels\n",
    "    }       "
   ]
  },
  {
   "cell_type": "code",
   "execution_count": 50,
   "metadata": {
    "id": "PRdvkAOCCYka"
   },
   "outputs": [
    {
     "data": {
      "text/plain": [
       "(2874, 2)"
      ]
     },
     "execution_count": 50,
     "metadata": {},
     "output_type": "execute_result"
    }
   ],
   "source": [
    "final_df = pd.DataFrame(create_dataset_for_model(X, features, dfs, email_data['body'], n_clusters, top = 20))\n",
    "final_df.shape"
   ]
  },
  {
   "cell_type": "code",
   "execution_count": 51,
   "metadata": {},
   "outputs": [
    {
     "data": {
      "text/plain": [
       "other       936\n",
       "deal        831\n",
       "power       624\n",
       "corp        379\n",
       "schedule    104\n",
       "Name: label, dtype: int64"
      ]
     },
     "execution_count": 51,
     "metadata": {},
     "output_type": "execute_result"
    }
   ],
   "source": [
    "final_df['label'].value_counts()"
   ]
  },
  {
   "cell_type": "code",
   "execution_count": 53,
   "metadata": {},
   "outputs": [],
   "source": [
    "final_df.to_csv('labelled_dataset.csv', index=False)"
   ]
  },
  {
   "cell_type": "code",
   "execution_count": null,
   "metadata": {},
   "outputs": [],
   "source": []
  },
  {
   "cell_type": "markdown",
   "metadata": {},
   "source": [
    "## 04 Model building"
   ]
  },
  {
   "cell_type": "code",
   "execution_count": 54,
   "metadata": {
    "id": "n5TMiRTIYuEl"
   },
   "outputs": [],
   "source": [
    "def plot_graphs(history, metric):\n",
    "    plt.plot(history.history[metric])\n",
    "    plt.plot(history.history['val_'+metric], '')\n",
    "    plt.xlabel(\"Epochs\")\n",
    "    plt.ylabel(metric)\n",
    "    plt.legend([metric, 'val_'+metric])"
   ]
  },
  {
   "cell_type": "code",
   "execution_count": 55,
   "metadata": {
    "colab": {
     "base_uri": "https://localhost:8080/",
     "height": 328
    },
    "id": "RFqyUnegYwBy",
    "outputId": "5d473e87-6c45-4aef-c546-5291d30de0ab"
   },
   "outputs": [
    {
     "name": "stdout",
     "output_type": "stream",
     "text": [
      "(2874, 2)\n",
      "other       936\n",
      "deal        831\n",
      "power       624\n",
      "corp        379\n",
      "schedule    104\n",
      "Name: label, dtype: int64\n"
     ]
    },
    {
     "data": {
      "text/html": [
       "<div>\n",
       "<style scoped>\n",
       "    .dataframe tbody tr th:only-of-type {\n",
       "        vertical-align: middle;\n",
       "    }\n",
       "\n",
       "    .dataframe tbody tr th {\n",
       "        vertical-align: top;\n",
       "    }\n",
       "\n",
       "    .dataframe thead th {\n",
       "        text-align: right;\n",
       "    }\n",
       "</style>\n",
       "<table border=\"1\" class=\"dataframe\">\n",
       "  <thead>\n",
       "    <tr style=\"text-align: right;\">\n",
       "      <th></th>\n",
       "      <th>data</th>\n",
       "      <th>label</th>\n",
       "    </tr>\n",
       "  </thead>\n",
       "  <tbody>\n",
       "    <tr>\n",
       "      <th>0</th>\n",
       "      <td>just in case the first number i sent out does...</td>\n",
       "      <td>deal</td>\n",
       "    </tr>\n",
       "    <tr>\n",
       "      <th>1</th>\n",
       "      <td>decade  over a  decade  get over  pages of da...</td>\n",
       "      <td>power</td>\n",
       "    </tr>\n",
       "    <tr>\n",
       "      <th>2</th>\n",
       "      <td>kilmer stopped in to discuss where we are on ...</td>\n",
       "      <td>other</td>\n",
       "    </tr>\n",
       "    <tr>\n",
       "      <th>3</th>\n",
       "      <td>thanks  scott  though the chances of re  kind...</td>\n",
       "      <td>other</td>\n",
       "    </tr>\n",
       "    <tr>\n",
       "      <th>4</th>\n",
       "      <td>richard  life does move on  what is malcomb t...</td>\n",
       "      <td>other</td>\n",
       "    </tr>\n",
       "  </tbody>\n",
       "</table>\n",
       "</div>"
      ],
      "text/plain": [
       "                                                data  label\n",
       "0   just in case the first number i sent out does...   deal\n",
       "1   decade  over a  decade  get over  pages of da...  power\n",
       "2   kilmer stopped in to discuss where we are on ...  other\n",
       "3   thanks  scott  though the chances of re  kind...  other\n",
       "4   richard  life does move on  what is malcomb t...  other"
      ]
     },
     "execution_count": 55,
     "metadata": {},
     "output_type": "execute_result"
    }
   ],
   "source": [
    "data = pd.read_csv('labelled_dataset.csv')\n",
    "print(data.shape)\n",
    "print(data['label'].value_counts())\n",
    "data.head()"
   ]
  },
  {
   "cell_type": "code",
   "execution_count": 56,
   "metadata": {
    "colab": {
     "base_uri": "https://localhost:8080/",
     "height": 328
    },
    "id": "U4Kkr1KaY8YQ",
    "outputId": "a0eabf6c-4df9-4639-c2ef-2b84cd656633"
   },
   "outputs": [
    {
     "name": "stdout",
     "output_type": "stream",
     "text": [
      "(2874, 2)\n",
      "other       936\n",
      "deal        831\n",
      "power       624\n",
      "corp        379\n",
      "schedule    104\n",
      "Name: label, dtype: int64\n"
     ]
    },
    {
     "data": {
      "text/html": [
       "<div>\n",
       "<style scoped>\n",
       "    .dataframe tbody tr th:only-of-type {\n",
       "        vertical-align: middle;\n",
       "    }\n",
       "\n",
       "    .dataframe tbody tr th {\n",
       "        vertical-align: top;\n",
       "    }\n",
       "\n",
       "    .dataframe thead th {\n",
       "        text-align: right;\n",
       "    }\n",
       "</style>\n",
       "<table border=\"1\" class=\"dataframe\">\n",
       "  <thead>\n",
       "    <tr style=\"text-align: right;\">\n",
       "      <th></th>\n",
       "      <th>data</th>\n",
       "      <th>label</th>\n",
       "    </tr>\n",
       "  </thead>\n",
       "  <tbody>\n",
       "    <tr>\n",
       "      <th>0</th>\n",
       "      <td>just in case the first number i sent out does...</td>\n",
       "      <td>deal</td>\n",
       "    </tr>\n",
       "    <tr>\n",
       "      <th>1</th>\n",
       "      <td>decade  over a  decade  get over  pages of da...</td>\n",
       "      <td>power</td>\n",
       "    </tr>\n",
       "    <tr>\n",
       "      <th>2</th>\n",
       "      <td>kilmer stopped in to discuss where we are on ...</td>\n",
       "      <td>other</td>\n",
       "    </tr>\n",
       "    <tr>\n",
       "      <th>3</th>\n",
       "      <td>thanks  scott  though the chances of re  kind...</td>\n",
       "      <td>other</td>\n",
       "    </tr>\n",
       "    <tr>\n",
       "      <th>4</th>\n",
       "      <td>richard  life does move on  what is malcomb t...</td>\n",
       "      <td>other</td>\n",
       "    </tr>\n",
       "  </tbody>\n",
       "</table>\n",
       "</div>"
      ],
      "text/plain": [
       "                                                data  label\n",
       "0   just in case the first number i sent out does...   deal\n",
       "1   decade  over a  decade  get over  pages of da...  power\n",
       "2   kilmer stopped in to discuss where we are on ...  other\n",
       "3   thanks  scott  though the chances of re  kind...  other\n",
       "4   richard  life does move on  what is malcomb t...  other"
      ]
     },
     "execution_count": 56,
     "metadata": {},
     "output_type": "execute_result"
    }
   ],
   "source": [
    "reduced_data = data\n",
    "print(reduced_data.shape)\n",
    "print(reduced_data['label'].value_counts())\n",
    "reduced_data.head()"
   ]
  },
  {
   "cell_type": "code",
   "execution_count": 58,
   "metadata": {
    "colab": {
     "base_uri": "https://localhost:8080/",
     "height": 206
    },
    "id": "bZ6T3jm-g0Oe",
    "outputId": "1755d392-ed3e-406a-ff6b-c5c71de18c9d"
   },
   "outputs": [
    {
     "data": {
      "text/html": [
       "<div>\n",
       "<style scoped>\n",
       "    .dataframe tbody tr th:only-of-type {\n",
       "        vertical-align: middle;\n",
       "    }\n",
       "\n",
       "    .dataframe tbody tr th {\n",
       "        vertical-align: top;\n",
       "    }\n",
       "\n",
       "    .dataframe thead th {\n",
       "        text-align: right;\n",
       "    }\n",
       "</style>\n",
       "<table border=\"1\" class=\"dataframe\">\n",
       "  <thead>\n",
       "    <tr style=\"text-align: right;\">\n",
       "      <th></th>\n",
       "      <th>data</th>\n",
       "      <th>label</th>\n",
       "      <th>label_id</th>\n",
       "    </tr>\n",
       "  </thead>\n",
       "  <tbody>\n",
       "    <tr>\n",
       "      <th>0</th>\n",
       "      <td>just in case the first number i sent out does...</td>\n",
       "      <td>deal</td>\n",
       "      <td>1</td>\n",
       "    </tr>\n",
       "    <tr>\n",
       "      <th>1</th>\n",
       "      <td>decade  over a  decade  get over  pages of da...</td>\n",
       "      <td>power</td>\n",
       "      <td>3</td>\n",
       "    </tr>\n",
       "    <tr>\n",
       "      <th>2</th>\n",
       "      <td>kilmer stopped in to discuss where we are on ...</td>\n",
       "      <td>other</td>\n",
       "      <td>2</td>\n",
       "    </tr>\n",
       "    <tr>\n",
       "      <th>3</th>\n",
       "      <td>thanks  scott  though the chances of re  kind...</td>\n",
       "      <td>other</td>\n",
       "      <td>2</td>\n",
       "    </tr>\n",
       "    <tr>\n",
       "      <th>4</th>\n",
       "      <td>richard  life does move on  what is malcomb t...</td>\n",
       "      <td>other</td>\n",
       "      <td>2</td>\n",
       "    </tr>\n",
       "  </tbody>\n",
       "</table>\n",
       "</div>"
      ],
      "text/plain": [
       "                                                data  label  label_id\n",
       "0   just in case the first number i sent out does...   deal         1\n",
       "1   decade  over a  decade  get over  pages of da...  power         3\n",
       "2   kilmer stopped in to discuss where we are on ...  other         2\n",
       "3   thanks  scott  though the chances of re  kind...  other         2\n",
       "4   richard  life does move on  what is malcomb t...  other         2"
      ]
     },
     "execution_count": 58,
     "metadata": {},
     "output_type": "execute_result"
    }
   ],
   "source": [
    "reduced_data['label'] = reduced_data['label'].astype('category')\n",
    "reduced_data['label_id'] = reduced_data['label'].cat.codes\n",
    "reduced_data.head()"
   ]
  },
  {
   "cell_type": "code",
   "execution_count": 59,
   "metadata": {
    "colab": {
     "base_uri": "https://localhost:8080/"
    },
    "id": "Azurl8SjhYT0",
    "outputId": "7f6c46c1-55e3-4220-fb2b-e93aff372d08"
   },
   "outputs": [
    {
     "data": {
      "text/plain": [
       "{1: 'deal', 3: 'power', 2: 'other', 4: 'schedule', 0: 'corp'}"
      ]
     },
     "execution_count": 59,
     "metadata": {},
     "output_type": "execute_result"
    }
   ],
   "source": [
    "id_to_label = pd.Series(reduced_data['label'].values,index=reduced_data['label_id']).to_dict()\n",
    "id_to_label"
   ]
  },
  {
   "cell_type": "code",
   "execution_count": 61,
   "metadata": {
    "colab": {
     "base_uri": "https://localhost:8080/"
    },
    "id": "9E9DYFxWkiG3",
    "outputId": "e3b2c1bf-bc53-430f-a94e-e9dd901be6ae"
   },
   "outputs": [],
   "source": [
    "import tensorflow as tf\n",
    "\n",
    "features, labels = reduced_data['data'], reduced_data['label_id']\n",
    "\n",
    "X_train, X_test, y_train, y_test = train_test_split(features, labels, train_size = 0.7, test_size = 0.3, random_state = 3, stratify = labels)\n",
    "\n",
    "X_train = np.asarray(X_train).astype(str)\n",
    "X_test = np.asarray(X_test).astype(str)\n",
    "\n",
    "X_train = tf.data.Dataset.from_tensor_slices(X_train)\n",
    "y_train = tf.data.Dataset.from_tensor_slices(tf.cast(y_train, tf.int64))\n",
    "X_test = tf.data.Dataset.from_tensor_slices(X_test)\n",
    "y_test = tf.data.Dataset.from_tensor_slices(tf.cast(y_test, tf.int64))"
   ]
  },
  {
   "cell_type": "code",
   "execution_count": 62,
   "metadata": {
    "id": "tO95I3Z1d_gz"
   },
   "outputs": [],
   "source": [
    "VOCAB_SIZE = 3000\n",
    "max_len = 50\n",
    "\n",
    "encoder = tf.keras.layers.TextVectorization(max_tokens=VOCAB_SIZE, output_sequence_length=max_len, output_mode='int')\n",
    "encoder.adapt(X_train)"
   ]
  },
  {
   "cell_type": "code",
   "execution_count": 63,
   "metadata": {
    "colab": {
     "base_uri": "https://localhost:8080/"
    },
    "id": "fOQvCHygeLLB",
    "outputId": "8fa8cd3e-d62b-432f-cc6e-2b8196c83e79"
   },
   "outputs": [
    {
     "data": {
      "text/plain": [
       "array(['', '[UNK]', 'the', 'to', 'and', 'of', 'a', 'in', 'for', 'enron',\n",
       "       'is', 'i', 'that', 'you', 'on', 's', 'this', 'be', 'ect', 'with',\n",
       "       'will', 'we', 'it', 'have', 'are'], dtype='<U24')"
      ]
     },
     "execution_count": 63,
     "metadata": {},
     "output_type": "execute_result"
    }
   ],
   "source": [
    "vocab = np.array(encoder.get_vocabulary())\n",
    "vocab[:25]"
   ]
  },
  {
   "cell_type": "code",
   "execution_count": 64,
   "metadata": {
    "colab": {
     "base_uri": "https://localhost:8080/"
    },
    "id": "uBUwUFSuuEo2",
    "outputId": "ae1c890b-cb03-4b18-b3e8-dce5c53a7d31",
    "scrolled": true
   },
   "outputs": [
    {
     "name": "stdout",
     "output_type": "stream",
     "text": [
      "Orignal:  b' attached is the presentation and speech notes that ken lay used on wednesday  at the austin meeting with bush  etc '\n",
      "Round-trip:  attached is the presentation and [UNK] notes that ken lay used on wednesday at the austin meeting with bush etc                              \n",
      "\n",
      "Orignal:  b' apb shows this deal should be with mieco  thanks '\n",
      "Round-trip:  [UNK] shows this deal should be with [UNK] thanks                                         \n",
      "\n",
      "Orignal:  b' at its special meeting today  ferc released the results of its eagerly  awaited probe into california  s summer power crisis  concluding that under  certain circumstances  california ratepayers were subjected to unjust and  unreasonable power rates due to california  s  seriously flawed  market  structure and rules in conjunction with tight demand and supply conditions  throughout the west  the ferc staff report on western markets and the causes of the summer  price abormalities  entitled  part i of staff report on u  s  bulk power  in response  ferc issued an order proposing a series of sweeping structural  changes to the california iso and px to help remedy the pricing problems  and  solicited public comment by november  a technical conference has also  been scheduled for november  to discuss the proposed solutions and other  remedies that might be suggested  details tba  while all four commissioners  supported the order  the order stretched the commission  chairman hoecker  and comm  breathitt expressed strong endorsements  while comms  hebert and  massey concurred  citing areas where they felt the commission had either  over  reached  or not gone far enough  as discussed below  a final order is  expected to be issued by year  s end  at the same time  the commission warned california consumers of their  continued risk of paying higher prices unless policy makers there resolve  ahead markets for power purchases   development of demand responses   siting of generation and transmission  and  assurance of sufficient  reserve requirements  highlights of proposed california structural remedy  eliminating the state  s mandatory requirement that the state  s  investor  owned utilities buy and sell electricity through the px  and allowing  these utilities to purchase electricity through forward contracts and other  alternative mechanisms to manage supply risks  requiring market participants to schedule  percent of their  transactions in the day  ahead market and instituting a penalty charge for  under  scheduling  in excess of five percent of hourly load requirements  in  order to discourage over  reliance on the real  time spot market  establishing independent  non  stakeholder governing boards for the iso  and px  modifying the current single price auction system by  a  imposing a  temporary  mwh  soft cap  that prohibits supply bids in excess of  from setting the market  clearing price for all bidders   b  requiring sellers  bidding above  mwh to report their bids to ferc on a confidential  weekly  basis and provide certain cost support  and  c  requiring the iso and px to  report monthly information on such bids  the commission  s price mitigation  measures would remain in effect through december   declining to order retroactive refunds for the state  s ratepayers and  utilities  citing insufficient authority to do so  but subjecting sellers to  potential refund liability for transactions from october   until  december   but no lower than their marginal or opportunity costs  if  ferc finds non  competitive behavior  encouraging accelerated state siting approval and introduction of demand  response management programs  separately  the draft order rejected the iso  s request for an extension of  its current purchase price cap authority  and the px  s request for price  capping authority  commissioner responses  comm  herbert reluctantly concurred  noting that his decision may change when  a final order is considered based on comments filed or testimony offered at  the november  meeting  he stressed that he would have preferred that the  markets   abolish the single price auction entirely   terminate the  buy and sell  mandate in the px  and  direct the iso to address a long  list of cited problems in its january  rto filing  rather than having the  commission prescribe specific remedies  hebert stated that while he was opposed in principle to the  soft cap  concept  if one had to be adopted  then the soft cap should increase  incrementally increase over time at specific pre  announced dates  he  believes that this would serve to both encourage greater investment in  facilities and additional forward contracting as well as provide an incentive  for california regulators to address market design and other flaws  also  he  would not have disbanded the stakeholder governing boards at this time  but  allow the iso and px to address this issue in their january  rto  filings  in addition  he would not dictate risk management methods  preferring instead that market participants determine appropriate actions on  their own  finally  he advised californians not to be so environmentally  focused that they do not realize their tremendous need for generation  capacity  comm  breathitt stated her approval of the order while warning that ferc  cannot allow the events of this past summer to reverse or slow the progress  towards open and competitive markets  she noted that it was the commission  s  job to guide the market to self  correct and not to conduct  command and  control  she also commended the managers of the iso and px  saying that  they have performed admirably  however  she noted she is awaiting comments  on the single price auction remedy and its accompanying confidential  reporting requirements  comm  massey concurred  but emphasized that he advocates a more aggressive  approach  he feels that the congress has  put its thumb on the scale  in the  federal power act to protect consumers  stating that prices will continue to  be unreasonable in the future  he believes that this order moves in the right  direction  by proposing solutions to identified problems such as an over  reliance on the spot market  lack of demand response  the need to  reconstitute governance of the iso and px and the elimination of the buy  sell  mandate  comm  massey specifically called for comments regarding whether the  mwh soft cap went far enough  whether ferc has the legal authority to  issue refunds and to determine whether there should be a requirement for a  certain percentage of forward contracting to hedge against the spot market  price volatility  finally  chairman hoecker stated his strong support of the order  but noted  that this is  no time to pull punches  he emphasized that the commission  needed frank comments from the industry  he echoed comm  breathitt  s warning  that competition is at risk and that they needed to get the markets back on  track  noting that the commission lacked authority to order refunds  he  stated that the responsibility rests with congress  addressing  jurisdictional issues  he stated that siting problems encountered at the  state level are slowing the  meandering transition  to competition  he feels  that the state of california and ferc need to work together to resolve these  problems and that ferc is not attempting to usurp power  rather  california  is part of a broader interstate market and is dependent on the western region  for reliable energy  thus placing the burden on federal action to make things  work  hoecker maintained  the chairman also said that the commission will  fully investigate and act upon complaints of market power abuse or further  evidence provided by staff  s ongoing investigation  if you have any questions or comments  please call jack cashin at '\n",
      "Round-trip:  at its special meeting today ferc released the results of its [UNK] [UNK] [UNK] into california s summer power crisis [UNK] that under certain circumstances california [UNK] were [UNK] to unjust and unreasonable power rates due to california s seriously [UNK] market structure and rules in [UNK] with tight demand\n",
      "\n"
     ]
    }
   ],
   "source": [
    "for example in X_train.take(3):\n",
    "    print(\"Orignal: \", example.numpy())\n",
    "    print(\"Round-trip: \", \" \".join(vocab[encoder(example).numpy()]))\n",
    "    print()"
   ]
  },
  {
   "cell_type": "code",
   "execution_count": 65,
   "metadata": {
    "colab": {
     "base_uri": "https://localhost:8080/"
    },
    "id": "-2qgwNq_dBeH",
    "outputId": "8950300c-56fb-4173-b59e-700e699cbd78"
   },
   "outputs": [
    {
     "data": {
      "text/plain": [
       "<tf.Tensor: shape=(50,), dtype=int64, numpy=\n",
       "array([  28,   88,  516,  163,  136,  240, 1673,    2, 1032,    5,   88,\n",
       "          1,    1,    1,  117,   59,   15,  311,   44,  546,    1,   12,\n",
       "        162,  864, 1927,   59,    1,   86,    1,    3, 2549,    4, 2303,\n",
       "         44,  354,  336,    3,   59,   15, 2431,    1,   62, 1272,    4,\n",
       "        800,    7,    1,   19, 1951,  375], dtype=int64)>"
      ]
     },
     "execution_count": 65,
     "metadata": {},
     "output_type": "execute_result"
    }
   ],
   "source": [
    "encoder(example)"
   ]
  },
  {
   "cell_type": "code",
   "execution_count": 66,
   "metadata": {
    "id": "ABvjLbFXw2Ge"
   },
   "outputs": [],
   "source": [
    "train_dataset = tf.data.Dataset.zip((X_train, y_train))\n",
    "test_dataset = tf.data.Dataset.zip((X_test, y_test))"
   ]
  },
  {
   "cell_type": "code",
   "execution_count": 67,
   "metadata": {
    "id": "j0dPMvp903p6"
   },
   "outputs": [],
   "source": [
    "BUFFER_SIZE = 10000\n",
    "BATCH_SIZE = 1\n",
    "\n",
    "train_dataset = train_dataset.shuffle(BUFFER_SIZE).batch(BATCH_SIZE).prefetch(tf.data.AUTOTUNE)\n",
    "test_dataset = test_dataset.batch(BATCH_SIZE).prefetch(tf.data.AUTOTUNE)"
   ]
  },
  {
   "cell_type": "code",
   "execution_count": 68,
   "metadata": {
    "colab": {
     "base_uri": "https://localhost:8080/"
    },
    "id": "eswB9pDA03mA",
    "outputId": "1b5ba619-b570-40d8-8004-67702f0096ea"
   },
   "outputs": [
    {
     "data": {
      "text/plain": [
       "(TensorSpec(shape=(None,), dtype=tf.string, name=None),\n",
       " TensorSpec(shape=(None,), dtype=tf.int64, name=None))"
      ]
     },
     "execution_count": 68,
     "metadata": {},
     "output_type": "execute_result"
    }
   ],
   "source": [
    "train_dataset.element_spec"
   ]
  },
  {
   "cell_type": "code",
   "execution_count": 69,
   "metadata": {
    "id": "LMZll0ij03jF"
   },
   "outputs": [],
   "source": [
    "def create_model():\n",
    "    embedding = tf.keras.layers.Embedding(\n",
    "    input_dim = len(encoder.get_vocabulary()),\n",
    "    output_dim = 32,\n",
    "    mask_zero = True)\n",
    "\n",
    "    model = tf.keras.Sequential()\n",
    "    model.add(tf.keras.Input(shape = (1,), dtype=tf.string))\n",
    "    model.add(encoder)\n",
    "    model.add(embedding)\n",
    "    model.add(tf.keras.layers.Bidirectional(tf.keras.layers.LSTM(32)))\n",
    "    model.add(tf.keras.layers.Dropout(0.5))\n",
    "    model.add(tf.keras.layers.Dense(16, activation= 'relu'))\n",
    "    model.add(tf.keras.layers.Dense(5, activation='softmax'))\n",
    "\n",
    "    model.compile(loss = tf.keras.losses.SparseCategoricalCrossentropy(),\n",
    "              optimizer = tf.keras.optimizers.RMSprop(learning_rate = 1e-03),\n",
    "              metrics = [tf.keras.metrics.SparseCategoricalAccuracy()])\n",
    "\n",
    "    return model"
   ]
  },
  {
   "cell_type": "code",
   "execution_count": 70,
   "metadata": {
    "colab": {
     "base_uri": "https://localhost:8080/"
    },
    "id": "Pvm3H-SI5Q0U",
    "outputId": "62c67df6-9e6f-40c0-fe4d-f9a004d2d614"
   },
   "outputs": [
    {
     "name": "stdout",
     "output_type": "stream",
     "text": [
      "Model: \"sequential\"\n",
      "_________________________________________________________________\n",
      " Layer (type)                Output Shape              Param #   \n",
      "=================================================================\n",
      " text_vectorization (TextVec  (None, 50)               0         \n",
      " torization)                                                     \n",
      "                                                                 \n",
      " embedding (Embedding)       (None, 50, 32)            96000     \n",
      "                                                                 \n",
      " bidirectional (Bidirectiona  (None, 64)               16640     \n",
      " l)                                                              \n",
      "                                                                 \n",
      " dropout (Dropout)           (None, 64)                0         \n",
      "                                                                 \n",
      " dense (Dense)               (None, 16)                1040      \n",
      "                                                                 \n",
      " dense_1 (Dense)             (None, 5)                 85        \n",
      "                                                                 \n",
      "=================================================================\n",
      "Total params: 113,765\n",
      "Trainable params: 113,765\n",
      "Non-trainable params: 0\n",
      "_________________________________________________________________\n"
     ]
    }
   ],
   "source": [
    "model = create_model()\n",
    "model.summary()"
   ]
  },
  {
   "cell_type": "code",
   "execution_count": 71,
   "metadata": {
    "id": "MOu5NZrElKVV"
   },
   "outputs": [],
   "source": [
    "validation_dataset = test_dataset.take(100)\n",
    "test_dataset = test_dataset.skip(100)"
   ]
  },
  {
   "cell_type": "code",
   "execution_count": 72,
   "metadata": {
    "colab": {
     "base_uri": "https://localhost:8080/"
    },
    "id": "sXwlUtDv5Qun",
    "outputId": "c803c136-3990-4f40-b637-ba8330940efe"
   },
   "outputs": [
    {
     "data": {
      "text/plain": [
       "(2011, 763, 100)"
      ]
     },
     "execution_count": 72,
     "metadata": {},
     "output_type": "execute_result"
    }
   ],
   "source": [
    "len(train_dataset), len(test_dataset), len(validation_dataset)"
   ]
  },
  {
   "cell_type": "code",
   "execution_count": null,
   "metadata": {
    "colab": {
     "base_uri": "https://localhost:8080/"
    },
    "id": "B1d2mehn5Qw3",
    "outputId": "17794d9c-6d53-4b2c-9992-490a4b65035d"
   },
   "outputs": [
    {
     "name": "stdout",
     "output_type": "stream",
     "text": [
      "Epoch 1/20\n",
      "2017/2017 [==============================] - 79s 35ms/step - loss: 1.3529 - sparse_categorical_accuracy: 0.4650 - val_loss: 1.2929 - val_sparse_categorical_accuracy: 0.4400\n",
      "Epoch 2/20\n",
      "2017/2017 [==============================] - 69s 34ms/step - loss: 1.2256 - sparse_categorical_accuracy: 0.4859 - val_loss: 1.2416 - val_sparse_categorical_accuracy: 0.4600\n",
      "Epoch 3/20\n",
      "2017/2017 [==============================] - 67s 33ms/step - loss: 1.1481 - sparse_categorical_accuracy: 0.5568 - val_loss: 1.5194 - val_sparse_categorical_accuracy: 0.4500\n",
      "Epoch 4/20\n",
      "2017/2017 [==============================] - 69s 34ms/step - loss: 1.0324 - sparse_categorical_accuracy: 0.6356 - val_loss: 1.0209 - val_sparse_categorical_accuracy: 0.5900\n",
      "Epoch 5/20\n",
      "2017/2017 [==============================] - 69s 34ms/step - loss: 0.9232 - sparse_categorical_accuracy: 0.6857 - val_loss: 1.1304 - val_sparse_categorical_accuracy: 0.5900\n",
      "Epoch 6/20\n",
      "2017/2017 [==============================] - 67s 33ms/step - loss: 0.8641 - sparse_categorical_accuracy: 0.7134 - val_loss: 0.9915 - val_sparse_categorical_accuracy: 0.6200\n",
      "Epoch 7/20\n",
      "2017/2017 [==============================] - 69s 34ms/step - loss: 0.8422 - sparse_categorical_accuracy: 0.7199 - val_loss: 1.0134 - val_sparse_categorical_accuracy: 0.6400\n",
      "Epoch 8/20\n",
      "2017/2017 [==============================] - 70s 35ms/step - loss: 0.8006 - sparse_categorical_accuracy: 0.7328 - val_loss: 1.1585 - val_sparse_categorical_accuracy: 0.6500\n",
      "Epoch 9/20\n",
      "2017/2017 [==============================] - 68s 34ms/step - loss: 0.8175 - sparse_categorical_accuracy: 0.7546 - val_loss: 1.2187 - val_sparse_categorical_accuracy: 0.6200\n",
      "Epoch 10/20\n",
      "2017/2017 [==============================] - 69s 34ms/step - loss: 0.7558 - sparse_categorical_accuracy: 0.7660 - val_loss: 1.1387 - val_sparse_categorical_accuracy: 0.6500\n",
      "Epoch 11/20\n",
      "2017/2017 [==============================] - 69s 34ms/step - loss: 0.6848 - sparse_categorical_accuracy: 0.7828 - val_loss: 1.2146 - val_sparse_categorical_accuracy: 0.5700\n",
      "Epoch 12/20\n",
      "2017/2017 [==============================] - 68s 34ms/step - loss: 0.7114 - sparse_categorical_accuracy: 0.7987 - val_loss: 1.4881 - val_sparse_categorical_accuracy: 0.5800\n",
      "Epoch 13/20\n",
      "2017/2017 [==============================] - 70s 35ms/step - loss: 0.6762 - sparse_categorical_accuracy: 0.8076 - val_loss: 1.3190 - val_sparse_categorical_accuracy: 0.5900\n",
      "Epoch 14/20\n",
      "2017/2017 [==============================] - 69s 34ms/step - loss: 0.6164 - sparse_categorical_accuracy: 0.8304 - val_loss: 1.5462 - val_sparse_categorical_accuracy: 0.6400\n",
      "Epoch 15/20\n",
      "2017/2017 [==============================] - 68s 34ms/step - loss: 0.5971 - sparse_categorical_accuracy: 0.8389 - val_loss: 1.6987 - val_sparse_categorical_accuracy: 0.6400\n",
      "Epoch 16/20\n",
      "2017/2017 [==============================] - 69s 34ms/step - loss: 0.5562 - sparse_categorical_accuracy: 0.8532 - val_loss: 1.7812 - val_sparse_categorical_accuracy: 0.5800\n",
      "Epoch 17/20\n",
      "2017/2017 [==============================] - 69s 34ms/step - loss: 0.5407 - sparse_categorical_accuracy: 0.8542 - val_loss: 1.6674 - val_sparse_categorical_accuracy: 0.6500\n",
      "Epoch 18/20\n",
      "2017/2017 [==============================] - 68s 34ms/step - loss: 0.5279 - sparse_categorical_accuracy: 0.8790 - val_loss: 2.1422 - val_sparse_categorical_accuracy: 0.6200\n",
      "Epoch 19/20\n",
      "2017/2017 [==============================] - 67s 33ms/step - loss: 0.4665 - sparse_categorical_accuracy: 0.8855 - val_loss: 2.0816 - val_sparse_categorical_accuracy: 0.5800\n",
      "Epoch 20/20\n",
      "2017/2017 [==============================] - 68s 34ms/step - loss: 0.4821 - sparse_categorical_accuracy: 0.8870 - val_loss: 2.2703 - val_sparse_categorical_accuracy: 0.6200\n"
     ]
    }
   ],
   "source": [
    "history = model.fit(train_dataset, epochs=20, verbose=1, validation_data=validation_dataset)"
   ]
  },
  {
   "cell_type": "code",
   "execution_count": null,
   "metadata": {
    "colab": {
     "base_uri": "https://localhost:8080/",
     "height": 279
    },
    "id": "-Un6VUTshrB-",
    "outputId": "ae7adba9-7423-4255-8b3c-0bf9245ffc13"
   },
   "outputs": [
    {
     "data": {
      "image/png": "[encoded data removed]",
      "text/plain": [
       "<Figure size 432x288 with 1 Axes>"
      ]
     },
     "metadata": {
      "needs_background": "light"
     },
     "output_type": "display_data"
    }
   ],
   "source": [
    "plot_graphs(history, 'sparse_categorical_accuracy')"
   ]
  },
  {
   "cell_type": "code",
   "execution_count": null,
   "metadata": {
    "colab": {
     "base_uri": "https://localhost:8080/"
    },
    "id": "op60eHU5g3Ob",
    "outputId": "2335d15b-991d-478a-84f8-283e67b5c391"
   },
   "outputs": [
    {
     "name": "stdout",
     "output_type": "stream",
     "text": [
      "Test loss:  2.6946609020233154\n",
      "Test accuracy:  0.6000000238418579\n"
     ]
    }
   ],
   "source": [
    "score = model.evaluate(test_dataset, verbose = 0)\n",
    "print('Test loss: ', score[0])\n",
    "print('Test accuracy: ', score[1])"
   ]
  },
  {
   "cell_type": "code",
   "execution_count": null,
   "metadata": {
    "colab": {
     "base_uri": "https://localhost:8080/"
    },
    "id": "cDRh183IHZxc",
    "outputId": "4759c699-fdae-479a-f6e9-668edf8b5ab0"
   },
   "outputs": [
    {
     "data": {
      "text/plain": [
       "{0: 'corp', 1: 'deal', 2: 'other', 3: 'power', 4: 'schedule'}"
      ]
     },
     "execution_count": 27,
     "metadata": {},
     "output_type": "execute_result"
    }
   ],
   "source": [
    "id_to_label"
   ]
  },
  {
   "cell_type": "code",
   "execution_count": null,
   "metadata": {
    "colab": {
     "base_uri": "https://localhost:8080/"
    },
    "id": "_IxIpgzyHgiZ",
    "outputId": "3cd253f3-ea5e-4b0c-ca10-10cd6eefd83e"
   },
   "outputs": [
    {
     "name": "stdout",
     "output_type": "stream",
     "text": [
      "Original email:  b' michael   tribolet  enron  enronxgate  steffes  na  enron  enron   david   w   delainey  hou  ees  ees  the   proposed   purchase   of   the   pge   and   sce  s   transmission   grids   have   vastly  different   short   term   liquidity   effects   for   pge   and   sce     if   the   current  proposal   is   at  23 x   book   and   assuming   the   first   mortgage   bond   holders   want  complete   repayment   in   return   for   releasing   their   liens   the   numbers   at  in   millions                     pge          sce  book   value                     143       190 multiple   of   book               23 x        23 x  cash   price                    329      437 first   mortgage   bonds         335      118 resulting   liquidity          006     319 note   that   the   first   mortgage   holders   may   release   their   liens   in   return   for  partial   payment   based   on   remaining   value    nonetheless   pge  s   situation   is  not   as   flexible '\n",
      "Predicted:  other\n",
      "Actual:  other\n",
      "Original email:  b'  forwarded   by   justin   timothy  enron  development   on  justin   timothy  yeow  enron  development  enron  development   david  minns  enron  development  enron  development   christian  werner  enron  development  enron  development   david   forster  ect   stephen   h  douglas  ect   dale   neuner  ect  g  day   rob  it   has   been   decided   after   discussions   between   paul   quilkey   enron   aust  ceo   raymond   yeow   head   trader   christian   werner   eaf   meteorologist    mark  tawney   head   of   weather   desk    houston    that   hong   kong   weather   as   listed   on  eol   with   enron   aust   as   the   enron   entity   is   to   be   listed   on   eol   with   enron  north   america   as   the   enron   entity    traded   out   of   houston   in   much   the   same  way   as   japan    australian   weather   is   currently   traded   out   of   houston  the   issues   that   we   encountered   when   setting   up   hk   wthr   with   ourselves   as   the  enron   entity    that   may   affect   putting   the   new   product   on   the   web   at   your   end  gtcs    after   speaking   with   dale    dave   forster   and   being   informed   of   the  capacity   issues   currently   affecting   the   eol   database   it   was   decided   that   we  would   create   a   more   generic   gtc   for   australian   weather   which   allowed   us   to  annexe   the   hong   kong   weather   products   under   the   one   gtc   we   therefore   did   not  have   to   create   a   new   product   type   as   the   hk   products   now   fall   under   the   aust  weather   product   types   you   may   need   to   do   the   same   at   your   end  legal    we   received   tax   advice   from   pwc   with   respect   to   how   we   in   australia  are   affected   by   hk   tax   laws   i   will   forward   the   email   from   heidi   mason  dealing   with   this   fyi  the   hk   password   application   that   was   previously   on   the   web   has   now   been  removed   due   to   concerns   that   we   may   be   seen   by   hk   regulators   to   be   directly  targeting   hk   investors   with   the   aim   of   getting   them   to   invest   in   our  products   which   may   have   undesirable   legal   implications   again   i   will  forward   the   email   from   david   forster  data    will   be   exactly   the   same   as   what   currently   appears   for   hk   weather  currently   on   the   web   with   the   exception   that   the   enron   entity   will   be   ena  rather   than   eaf   note   the   products   are   currently   offered   in   usd   with   the   the  pay   unit   as  500  usd    the   maximum   payout   limit   is  50000  usd   this   may   differ  for   ena   hk   weather  credit    existing   counterparties   will   need   to   be   reviewed    ok  d   to   trade   hk  weather   in   usd  please   give   me   a   call   if   you   have   any   questions  cheers  justin  pcg   sydney '\n",
      "Predicted:  deal\n",
      "Actual:  corp\n",
      "Original email:  b' help  us  help  you  transfer  promotion   or   placement   salary   information   from  1000  time   frame   to  present  the   information   gathered   is   strictly   confidential   salary   reports   will   only  reflect   aggregate   data   to   protect   confidentiality   the   aggregate   data   can   be  used   for   your   future   salary   negotiations  is   the   word   password   it   is   that   easy   any   problems   logging   on   contact  jocelyn   newman  5106430344  newman  haas '\n",
      "Predicted:  power\n",
      "Actual:  power\n",
      "Original email:  b' ever  fyi    in   case   you   didn  t   see   this   on   friday    marc   racicot   and   b  p   are  mentioned  may  18 2001 in   an   era   of   deregulation   enron   woos   regulators   more   than   ever  by   bob   davis   and   rebecca   smith  staff   reporters   of   the   wall   street   journal  washington    every   energy   executive   in   america   would   have   liked   a   half  hour  with   vice   president   dick   cheney   as   he   fashioned   the   bush   administration  s  national   energy   program   enron   corp   chairman   kenneth   lay   got   it  mr   lay   used   the   time   to   set   out   an   eight  point   agenda   intended   among   other  things   to   head   off   price   controls   on   wholesale   electricity   provide   enron  and   other   energy   traders   with   unfettered   access   to   the   nation  s  electricity  transmission   system   and   remove   regulatory   obstacles   to   building  new   generating   plants   and   power   lines   the   energy   plan   president   bush  unveiled   thursday   reflected   many   of   those   same   priorities  in   an   interview   last   week   the   vice   president   said   he   also   met   with   other  energy   executives   but   mr   lay   was   the   only   one   he   named   mr   cheney   says   he  sought   mr   lay  s   advice   because   enron   has   a   different   take   than   most   energy  companies  indeed   enron   corp   is   a   modern   paradox   it   has   transformed   itself   over   the  past  15  years   from   a   stodgy   gas  pipeline   operator   into   the   nation  s   largest  trader   of   gas   and   electricity   and   a   formidable   player   in   newer   markets   such  as   telecommunications   services   and   emissions  reduction   credits   today   it  s  the   quintessential   model   of   a   company   dedicated   to   free   markets  yet   as   much   as   any   company   in   the   u  s   it   has   cultivated   close   ties   with  government   since   the   late  1980 s   the   houston  based   company   which   was  president   george   w   bush  s   biggest   corporate   campaign   donor   has   beefed   up  its   lobbying   staff   boosted   its   political   contributions   and   sought   out  friends   in   the   world   of   politics   now   with   mr   bush   in   the   white   house   it  is   in   a   unique   position   to   see   whether   those   efforts   will   pay   off  enron  s   lobbying   blitz   reflects   one   of   the   ironies   of   the   era   of  deregulation   just   as   government   created   immense   telephone   electric   and   gas  monopolies   early   in   the   last   century   enron   and   other   players   feel   they   need  the   government  s   help   in   opening   up   those   monopolies   and   gaining   access   to  once  closed   markets  in   particular   enron   wants   the   federal   energy   regulatory   commission   to   ensure  that   energy   is   deregulated   on   terms   favorable   to   the   company   rather   than  having   the   nation  s   transmission   lines   controlled   by   the   utilities   it   wants  those   lines   to   provide   open   access   for   new   entrants   such   as   enron   eager   to  buy   and   sell   power  mr   lay   is   on   a   first  name   basis   with   a   half  dozen   members   of   the   bush  cabinet   and   knows   many   senior   white   house   staffers   from   their   days   in   the  texas   governor  s   mansion   with   mr   bush   before   joining   the   administration  both   white   house   economist   lawrence   lindsey   and   u  s   trade   representative  robert   zoellick   were   on   enron  s   advisory   board   which   pays   members   an   annual  stipend   of  50000 under   mr   lay   enron   has   donated   nearly  2  million   to   mr   bush   during   his  political   career   since   the   start   of   the  2000  campaign   enron   and   its  employees   have   contributed  13  million   to   the   bush   presidential   drive   the  republican   party   and   the   presidential   inauguration   says   the   center   for  responsive   politics   enron   also   accounted   for  461000  in   contributions  during   mr   bush  s   two   runs   for   governor   according   to   the   center   for   public  integrity  mr   lay   who   holds   a   doctorate   in   economics   says   all   he   wants   from  government   is   a   fair   shake   enron   supports   candidates   you   believe   in   he  says   you   believe   in   their   value   system   you   believe   in   their   philosophy   and  you   believe   they  ll   do   the   right   things   as   leaders  but   it  s   clear   that   mr   lay   wants   more   than   that   from   government   for   now   he  is   focusing   on   ferc   where   he   worked   in   the   early  1970 s   when   the   agency   was  known   as   the   federal   power   commission   he   hopes   to   make   ferc   his   ally   in  beating   back   the   power   of   utilities   long   dismissed   as   a   regulatory   backwater  overseeing   wholesale   transactions   by   electric   and   gas   utilities   the  commission   has   emerged   as   the   chief   navigator   of   the   nation  s   transition   to   a  fully   deregulated   energy   marketplace  even   before   mr   bush   took   office   ferc   had   begun   to   rein   in   the   market   power  of   utilities   in   december   ferc   told   the   nation  s   utilities   that   it   wanted  them   to   voluntarily   surrender   their   high  voltage   lines    those   that   can  dispatch   electricity   across   state   lines    to   independent   grid   operators  such   as   those   already   in   place   in   california   and   the   northeast   which   would  provide   open   access   to   the   lines   although   it   told   the   utilities   to   submit  plans   for   doing   so   many   of   them   have   been   reluctant   to   relinquish   control   of  their   lines   to   such   independent   organizations  mr   lay   wants   ferc   to   go   further   forcing   the   utilities   to   cede   direct  control   of   their   lines   he   also   is   seeking   rules   that   would   end   what   he   calls  energy   balkanization   and   create   seamless   interstate   electricity   markets  enron   is   the   biggest   gas   and   electric   company   entirely   dependent   on   the  competitive   side   of   the   business   says   andre   meade   an   analyst   for  commerzbank   to   the   extent   deregulation   slows   down   their   business   slows  down  right   now   it  s   a   lucrative   strategy   enron   typically   targets   tightly  controlled   markets   just   as   they   are   opening   up   using   its   financial   clout   and  risk  management   savvy   to   gain   a   dominant   market   position   in   doing   so   it  frequently   portrays   itself   as   an   insurgent   taking   on   entrenched   interests  in   electricity   for   instance   enron   buys   the   output   of   generating   plants  sometimes   days   weeks   or   years   before   the   power   is   actually   produced   using  sophisticated   weather   data   it   determines   the   most   lucrative   market   for   the  power   finds   a   buyer   and   then   arranges   delivery   via   transmission   lines   owned  by   others   it   hedges   its   positions   with   other   contracts   its   wholesale  trading   volume   climbed  55  for   natural   gas   and   more   than   doubled   for  electricity   in   the   first   quarter   alone   such   growth   pushed   enron  s   wholesale  energy  trading   income   before   taxes   and   interest   up   more   than   threefold   to 785  million   during   the   first   quarter  between  1996  and  2000  enron  s   yearly   net   income   nearly   doubled   to  979 million   and   its   revenue   increased   almost   eightfold   to  1008  billion   over  the   same   period   enron  s   stock   price   adjusted   for   splits   rose   more   than  fourfold  at   the   start   of   the   bush   administration   ferc  s   future   was   very   much   up   for  grabs   two   of   the   five   seats   on   the   commission   were   vacant   and   enron   quickly  sought   to   fill   them   with   activist   republicans   president   bush   named   a   friend  mr   wood   had   worked   closely   with   enron   during   a   six  year   effort   to   open  texas   retail   electricity   market   mr   wood   also   had   shown   the   kind   of  backbone   enron   wanted   in   a   separate   fight   over   telephone   deregulation   when   he  insisted   on   closely   monitoring   phone   utilities   to   make   sure   they   opened   their  networks   to   competitors  higher   profile  for   the   second   slot   enron   backed   nora   mead   brownell   a   pennsylvania   utility  regulator   she   had   come   to   enron  s   aid   in  1997  when   she   voted   to   block   an  electricity  market   restructuring   plan   backed   by   philadelphia  s   utility   and   by  gop   gov   tom   ridge   enron   argued   that   the   plan   would   have   locked   it   out   of  the   philadelphia   market  enron   worked   to   raise   ms   brownell  s   visibility   by   lobbying   the   house  commerce   committee   to   include   her   as   an   expert   witness   on   energy   issues   and  as   a   member   of   an   informal   advisory   group   say   enron   and   congressional   aides  mr   lay   provided   heavyweight   support   he   says   enron   included   ms   brownell  s  name   on   its   priority   list   of   a   half  dozen   prospective   ferc   nominees   and  when   her   candidacy   ran   into   opposition   from   pennsylvania   officials   with  bitter   memories   of   her  1997  decision   mr   lay   says   he   phoned   karl   rove   the  white   house  s   top   political   strategist   to   tell   him   that   she   was   a   strong  force   in   getting   the   right   outcome   in   pennsylvania  a   white   house   spokeswoman   says   that   a   number   of   individuals   and   industry  groups   weighed   in   favor   of   ms   brownell   but   she   declined   to   name   any   ms  brownell   says   she   was   unaware   of   any   concerted   enron   campaign   on   her   behalf  she   didn  t   ask   the   white   house   who   had   supported   her   because   she   says   i  didn  t   want   to   be   beholden  meanwhile   enron   was   using   its   democratic   contacts   to   strengthen   its   ties  with   linda   breathitt   a   kentucky   democrat   on   the   commission   earlier   this  spring   the   company   hired   two   of   former   vice   president   al   gore  s   closest  campaign  finance   director   johnny   hayes   both   had   come   to   know   ms   breathitt  through   democratic   politics  ms   breathitt   says   she   wasn  t   very   familiar   with   enron  s   interests   but   that  she   accepted   when   mr   hayes   invited   her   to   dinner   at   a   washington   restaurant  in   april   to   meet   richard   shapiro   enron  s   managing   director   for   government  affairs   everyone   likes   to   get   to   know   the   ferc   commissioners   ms  breathitt   says   adding   that   she   always   pays   for   her   own   meals  enron   has   long   played   this   kind   of   insider  s   game   mr   lay   has   been   friendly  with   both   democratic   and   republican   administrations   over   the   past  25  years  sharing   time   on   the   links   with   presidents   bill   clinton   and   gerald   ford   he  s  been   a   particularly   close   friend   of   the   bush   family   in   the   late  1980 s   he  ran   then  vice   president   george   h  w   bush  s   fund  raising   drives   in   texas  after   the   younger   bush   became   governor   he   appointed   mr   lay   to   run   the  influential   governor  s   business   council   mr   lay   also   made   enron  s   fleet   of  corporate   jets   available   to   the   new   governor   and   won   his   help   in   lobbying  officials   considering   enron   projects  in   march  1997  mr   lay   wrote   gov   bush   to   ask   that   he   lobby   the   texas  congressional   delegation   to   support   export  finance   credits   critical   to   enron  according   to   letters   released   by   the   texas   state   archivist  s   office   in   april 1997  when   enron   was   negotiating   a  2  billion   natural  gas   joint   venture   in  uzbekistan   mr   lay   wrote   to   thank   the   governor   for   meeting   with   the  uzbekistani   ambassador   to   the   u  s   six   months   later   another   lay   thank  you  note   concerned   a   phone   call   mr   bush   made   to   pennsylvania   gov   ridge   to  support   enron  s   plan   to   enter   the   philadelphia   electricity   market   i   am  certain   it   will   have   a   positive   impact   mr   lay   wrote  mr   lay   says   he   hasn  t   sought   mr   bush  s   aid   directly   since   mr   bush   won   the  presidency   last   month   he   talked   with   the   president   briefly   at   a   houston  benefit   for   the   barbara   bush   foundation   for   family   literacy   on   which   mr   lay  serves   as   co  chairman   it  s   not   a   matter   of   us   going   off   hunting   or   fishing  or   sitting   around   and   having   drinks   he   says  not   all   mr   lay  s   initiatives   have   been   successful   when   mr   bush   reneged   in  march   on   a   campaign   pledge   to   fight   global   warming   by   requiring   reductions   in  carbon  dioxide   levels   produced   by   burning   hydrocarbons   mr   lay   says   he  telephoned   mr   cheney   to   complain   the   scientific   evidence   although  certainly   not   conclusive   is   pretty   compelling   that   there   could   be   a  climate  change   problem   he   says   he   told   the   vice   president   the  administration   should   still   look   very   seriously   at   it  around   the   same   time   mr   lay   also   called   mr   rove   the   white   house   political  adviser   to   urge   him   to   talk   to   fred   krupp   the   head   of   the   moderate  environmental   defense   fund   messrs   krupp   and   rove   spoke   briefly   but   found  little   common   ground   later   enron   which   has   plans   to   add   emission   credits  to   the   commodities   it   trades   joined   a   coalition   urging   mandatory   reductions  in   carbon  dioxide   levels  but   enron   saved   its   main   lobbying   push   for   mr   cheney  s   energy   task   force   in  april   mr   lay   met   with   the   panel  s   staff   director   andrew   lundquist   and  later   with   mr   cheney   whom   mr   lay   had   come   to   know   well   when   the   vice  president   was   chief   of   halliburton   co   a   dallas   construction   company   we  built   enron   field   together   says   mr   lay   referring   to   houston  s   new  ballpark  in   both   meetings   say   enron   and   white   house   officials   mr   lay   presented   a  broad   agenda   for   opening   up   the   nation  s   electrical   system   and   used   the  gas  transmission   system   as   a   point   of   comparison   in   both   cases   he   argues  pipelines   and   transmission   lines   should   be   like   the   federal   highway   system  that   offers   easy   access   to   all  finding   the   bottlenecks  the   cheney   report   uses   similar   language   describing   the   electrical   grid   as  the   highway   for   interstate   commerce   in   electricity   as   enron   sought   the  report   directs   the   energy   secretary   to   determine   by   the   end   of   the   year  whether   it   makes   sense   to   establish   a   national   grid   and   to   identify  bottlenecks   in   the   transmission   system   as   well   as   how   to   remove   them   an  effort   to   make   the   grid   national   would   enhance   ferc  s   power   as   enron   has  urged  the   report   is   mum   on   some   enron   concerns   such   as   requiring   utilities   to   join  regional   transmission   organizations   an   idea   strongly   opposed   by   the   utility  industry   a   white   house   aide   says   the   task   force   didn  t   want   to   get   involved  in   such   battles   between   industries  as   solid   as   its   support   in   the   white   house   has   turned   out   to   be   enron   is  worried   about   the   backlash   against   electricity   deregulation   in   western   states  and   possibly   in   new   york   should   electricity   rates   surge   this   summer   nevada  repealed   its   deregulation   law   last   month   spooked   by   the   way   skyrocketing  wholesale  electricity   prices   in   neighboring   california   were   undermining   the  golden   state  s   economy   california   and   oregon   are   contemplating  state  government   purchases   of   major   utility   assets  enron  s   biggest   fear   is   that   the   political   pressure   will   lead   the   states   or  perhaps   congress   to   control   prices   which   could   undermine   enron  s   business  in   response   enron   has   formed   a   coalition   with   eight   other   energy   marketers  in   new   york   who   each   have   pledged  50000  to   pay   for   a   media   and   lobbying  campaign   it   also   has   hired   former   montana   gov   marc   racicot   and   dispatched  him   to   court   western   politicians   two   weeks   ago   mr   racicot   had   breakfast  with   an   old   colleague   oregon  s   democratic   gov   john   kitzhaber   after   the   two  chatted   about   fly  fishing   says   mr   kitzhaber   marc   did   say   he   was   working  to   re  energize   the   discussion   about   energy   and   had   some   ideas   for   a   framework  the   governors   might   want   to   consider  though   mr   kitzhaber   says   he   knew   that   mr   racicot   had   joined   the   washington  d  c   lobbying   firm   bracewell    patterson   mr   racicot   didn  t   disclose   that  he   was   on   retainer   to   enron    and   the   star   of   enron  s   western   states  advocacy   team   for   his   part   mr   racicot   says   he   was   working   not   at  enron  s   direction   but   with   their   knowledge   to   advance   positions   that   he  too   feels   are   important   jeffrey   white   contributed   to   this   article '\n",
      "Predicted:  power\n",
      "Actual:  power\n",
      "Original email:  b' now   you   can   access   the   archives   of   the   federal   energy   regulatory   commission  ferc   meetings   via   the   internet   using   real   player    the   capitol   connection  is   offering   this   service   for   free   for   a   limited   time    if   you   have   not  already   registered   and   received   the   login   name   and   password   for   the  ferc   link   on   the   sidebar    then   click   and   complete   the   archive   registration  and   you   will   receive   your   login   name   and   password  if   you   are   interested   in   the   live   or   archived   meetings   of   the   federal  communications   commission   fcc   or   national   transportation   safety   board  ntsb   please   contact   us  if   you   have   any   questions   concerning   the   ferc   video   archives   please  contact   us   at   capcon  gmu  edu   or   at  7039933100 thank   you  the   capitol   connection  george   mason   university   television  capcon  gmu  edu '\n",
      "Predicted:  power\n",
      "Actual:  power\n"
     ]
    }
   ],
   "source": [
    "for example, label in test_dataset.take(5):\n",
    "    print('Original email: ', example.numpy()[0])\n",
    "    print('Predicted label: ', id_to_label[np.argmax(model.predict(example.numpy()))])\n",
    "    print('Actual  label: ', id_to_label[label.numpy()[0]])"
   ]
  },
  {
   "cell_type": "code",
   "execution_count": null,
   "metadata": {
    "id": "jrErP3T7jjJq"
   },
   "outputs": [],
   "source": []
  }
 ],
 "metadata": {
  "colab": {
   "collapsed_sections": [],
   "name": "Semi Supervised Email Categorization.ipynb",
   "provenance": []
  },
  "kernelspec": {
   "display_name": "Python 3 (ipykernel)",
   "language": "python",
   "name": "python3"
  },
  "language_info": {
   "codemirror_mode": {
    "name": "ipython",
    "version": 3
   },
   "file_extension": ".py",
   "mimetype": "text/x-python",
   "name": "python",
   "nbconvert_exporter": "python",
   "pygments_lexer": "ipython3",
   "version": "3.9.7"
  }
 },
 "nbformat": 4,
 "nbformat_minor": 1
}
