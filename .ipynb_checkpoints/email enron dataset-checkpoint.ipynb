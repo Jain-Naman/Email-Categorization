{
 "cells": [
  {
   "cell_type": "markdown",
   "id": "7064fe06",
   "metadata": {},
   "source": [
    "# 01 Importing required libraries"
   ]
  },
  {
   "cell_type": "code",
   "execution_count": 111,
   "id": "b86df66a",
   "metadata": {},
   "outputs": [],
   "source": [
    "import pandas as pd\n",
    "import numpy as np\n",
    "import matplotlib.pyplot as plt\n",
    "\n",
    "from sklearn.feature_extraction.text import TfidfVectorizer, ENGLISH_STOP_WORDS\n",
    "from sklearn.preprocessing import normalize\n",
    "from sklearn.decomposition import PCA"
   ]
  },
  {
   "cell_type": "markdown",
   "id": "2e2a95f5",
   "metadata": {},
   "source": [
    "## 02 Sampling the dataset"
   ]
  },
  {
   "cell_type": "code",
   "execution_count": 2,
   "id": "c59e8f26",
   "metadata": {},
   "outputs": [],
   "source": [
    "# emails_dataframe = pd.read_csv('emails.csv')\n",
    "# emails_dataframe.shape"
   ]
  },
  {
   "cell_type": "code",
   "execution_count": 3,
   "id": "b65d0440",
   "metadata": {},
   "outputs": [],
   "source": [
    "# emails_sample = emails_dataframe.sample(n = 10000)\n",
    "# emails_sample.to_csv('emails_10000.csv', index=False)"
   ]
  },
  {
   "cell_type": "code",
   "execution_count": 4,
   "id": "4fd3f2f8",
   "metadata": {},
   "outputs": [],
   "source": [
    "# emails_sample = emails_dataframe.sample(n = 1000)\n",
    "# emails_sample.to_csv('emails_1000.csv', index=False)"
   ]
  },
  {
   "cell_type": "code",
   "execution_count": 5,
   "id": "b387f4fc",
   "metadata": {},
   "outputs": [],
   "source": [
    "# emails_sample = emails_dataframe.sample(n = 3000)\n",
    "# emails_sample.to_csv('emails_3000.csv', index=False)"
   ]
  },
  {
   "cell_type": "code",
   "execution_count": 6,
   "id": "a9e5659a",
   "metadata": {},
   "outputs": [],
   "source": [
    "# emails_sample = emails_dataframe.sample(n = 5000)\n",
    "# emails_sample.to_csv('emails_5000.csv', index=False)"
   ]
  },
  {
   "cell_type": "markdown",
   "id": "ecee52f1",
   "metadata": {},
   "source": [
    "## 03 Choosing a dataset to work with"
   ]
  },
  {
   "cell_type": "code",
   "execution_count": 60,
   "id": "b45b04a4",
   "metadata": {},
   "outputs": [
    {
     "name": "stdout",
     "output_type": "stream",
     "text": [
      "(3000, 2)\n"
     ]
    },
    {
     "data": {
      "text/html": [
       "<div>\n",
       "<style scoped>\n",
       "    .dataframe tbody tr th:only-of-type {\n",
       "        vertical-align: middle;\n",
       "    }\n",
       "\n",
       "    .dataframe tbody tr th {\n",
       "        vertical-align: top;\n",
       "    }\n",
       "\n",
       "    .dataframe thead th {\n",
       "        text-align: right;\n",
       "    }\n",
       "</style>\n",
       "<table border=\"1\" class=\"dataframe\">\n",
       "  <thead>\n",
       "    <tr style=\"text-align: right;\">\n",
       "      <th></th>\n",
       "      <th>file</th>\n",
       "      <th>message</th>\n",
       "    </tr>\n",
       "  </thead>\n",
       "  <tbody>\n",
       "    <tr>\n",
       "      <th>0</th>\n",
       "      <td>presto-k/deleted_items/72.</td>\n",
       "      <td>Message-ID: &lt;1899108.1075841428486.JavaMail.ev...</td>\n",
       "    </tr>\n",
       "    <tr>\n",
       "      <th>1</th>\n",
       "      <td>kean-s/sent/1612.</td>\n",
       "      <td>Message-ID: &lt;10787322.1075848258321.JavaMail.e...</td>\n",
       "    </tr>\n",
       "    <tr>\n",
       "      <th>2</th>\n",
       "      <td>hayslett-r/notes_inbox/93.</td>\n",
       "      <td>Message-ID: &lt;22047465.1075844303899.JavaMail.e...</td>\n",
       "    </tr>\n",
       "    <tr>\n",
       "      <th>3</th>\n",
       "      <td>dasovich-j/deleted_items/46.</td>\n",
       "      <td>Message-ID: &lt;11706130.1075851586002.JavaMail.e...</td>\n",
       "    </tr>\n",
       "    <tr>\n",
       "      <th>4</th>\n",
       "      <td>mcconnell-m/_sent_mail/734.</td>\n",
       "      <td>Message-ID: &lt;19460780.1075843995466.JavaMail.e...</td>\n",
       "    </tr>\n",
       "  </tbody>\n",
       "</table>\n",
       "</div>"
      ],
      "text/plain": [
       "                           file  \\\n",
       "0    presto-k/deleted_items/72.   \n",
       "1             kean-s/sent/1612.   \n",
       "2    hayslett-r/notes_inbox/93.   \n",
       "3  dasovich-j/deleted_items/46.   \n",
       "4   mcconnell-m/_sent_mail/734.   \n",
       "\n",
       "                                             message  \n",
       "0  Message-ID: <1899108.1075841428486.JavaMail.ev...  \n",
       "1  Message-ID: <10787322.1075848258321.JavaMail.e...  \n",
       "2  Message-ID: <22047465.1075844303899.JavaMail.e...  \n",
       "3  Message-ID: <11706130.1075851586002.JavaMail.e...  \n",
       "4  Message-ID: <19460780.1075843995466.JavaMail.e...  "
      ]
     },
     "execution_count": 60,
     "metadata": {},
     "output_type": "execute_result"
    }
   ],
   "source": [
    "emails = pd.read_csv('emails_3000.csv')\n",
    "print(emails.shape)\n",
    "emails.head()"
   ]
  },
  {
   "cell_type": "markdown",
   "id": "6eac7116",
   "metadata": {},
   "source": [
    "## 04 Preprocessing"
   ]
  },
  {
   "cell_type": "code",
   "execution_count": 61,
   "id": "b3f9c127",
   "metadata": {},
   "outputs": [
    {
     "name": "stdout",
     "output_type": "stream",
     "text": [
      "Message-ID: <1899108.1075841428486.JavaMail.evans@thyme>\n",
      "Date: Mon, 4 Feb 2002 08:20:43 -0800 (PST)\n",
      "From: jennifer.mcquade@enron.com\n",
      "To: caroline.abramo@enron.com, tim.belden@enron.com, robert.benson@enron.com, \n",
      "\tf..calger@enron.com, paul.choi@enron.com, chad.clark@enron.com, \n",
      "\tmike.cowan@enron.com, mike.curry@enron.com, dana.davis@enron.com, \n",
      "\tchris.dorland@enron.com, dale.furrow@enron.com, n..gilbert@enron.com, \n",
      "\tfred.lagrasta@enron.com, john.llodra@enron.com, \n",
      "\tmichael.mcdonald@enron.com, h..otto@enron.com, m..presto@enron.com, \n",
      "\treagan.rorschach@enron.com, stewart.rosman@enron.com, \n",
      "\tdouglas.smith@enron.com, paul.thomas@enron.com, \n",
      "\tbarry.tycholiz@enron.com, larry.valderrama@enron.com, \n",
      "\tfrank.vickers@enron.com, greg.whalley@enron.com, \n",
      "\tjohn.zufferli@enron.com\n",
      "Subject: More Dial-in Numbers for 10:30 Meeting\n",
      "Mime-Version: 1.0\n",
      "Content-Type: text/plain; charset=us-ascii\n",
      "Content-Transfer-Encoding: 7bit\n",
      "X-From: Mcquade, Jennifer </O=ENRON/OU=NA/CN=RECIPIENTS/CN=JMCQUAD2>\n",
      "X-To: Abramo, Caroline </O=ENRON/OU=NA/CN=RECIPIENTS/CN=Cabramo>, Belden, Tim </O=ENRON/OU=NA/CN=RECIPIENTS/CN=Tbelden>, Benson, Robert </O=ENRON/OU=NA/CN=RECIPIENTS/CN=Rbenson>, Calger, Christopher F. </O=ENRON/OU=NA/CN=RECIPIENTS/CN=Ccalger>, Choi, Paul </O=ENRON/OU=NA/CN=RECIPIENTS/CN=Pchoi>, Clark, Chad </O=ENRON/OU=NA/CN=RECIPIENTS/CN=Cclark5>, Cowan, Mike </O=ENRON/OU=NA/CN=RECIPIENTS/CN=Mcowan1>, Curry, Mike </O=ENRON/OU=NA/CN=RECIPIENTS/CN=Mcurry>, Davis, Mark Dana </O=ENRON/OU=NA/CN=RECIPIENTS/CN=Mdavis>, Dorland, Chris </O=ENRON/OU=NA/CN=RECIPIENTS/CN=Cdorlan>, Furrow, Dale </O=ENRON/OU=NA/CN=RECIPIENTS/CN=Dfurrow>, Gilbert, George N. </O=ENRON/OU=NA/CN=RECIPIENTS/CN=Ggilber>, Lagrasta, Fred </O=ENRON/OU=NA/CN=RECIPIENTS/CN=Flagras>, Llodra, John </O=ENRON/OU=NA/CN=RECIPIENTS/CN=Jllodra>, Mcdonald, Michael </O=ENRON/OU=NA/CN=RECIPIENTS/CN=Mmcdona>, Otto, Charles H. </O=ENRON/OU=NA/CN=RECIPIENTS/CN=Cotto>, Presto, Kevin M. </O=ENRON/OU=NA/CN=RECIPIENTS/CN=Kpresto>, Rorschach, Reagan </O=ENRON/OU=NA/CN=RECIPIENTS/CN=Rrorscha>, Rosman, Stewart </O=ENRON/OU=NA/CN=RECIPIENTS/CN=Srosman>, SMITH, Douglas </O=ENRON/OU=NA/CN=RECIPIENTS/CN=Gwaddr/cn=HQ3.BR1.Douglas Smith>, Thomas, Paul </O=ENRON/OU=NA/CN=RECIPIENTS/CN=Notesaddr/cn=341ccca1-a2b59bfc-80256903-4e3af6>, Tycholiz, Barry </O=ENRON/OU=NA/CN=RECIPIENTS/CN=Btychol>, Valderrama, Larry </O=ENRON/OU=NA/CN=RECIPIENTS/CN=Lvalder>, Vickers, Frank </O=ENRON/OU=NA/CN=RECIPIENTS/CN=Fvicker>, Whalley, Greg </O=ENRON/OU=NA/CN=RECIPIENTS/CN=Gwhalle>, Zufferli, John </O=ENRON/OU=NA/CN=RECIPIENTS/CN=Jzuffer>\n",
      "X-cc: \n",
      "X-bcc: \n",
      "X-Folder: \\ExMerge - Presto, Kevin M.\\Deleted Items\n",
      "X-Origin: PRESTO-K\n",
      "X-FileName: kevin presto 2-7-02.pst\n",
      "\n",
      "Just in case the first number I sent out doesn't work....\n",
      "\n",
      " -----Original Message-----\n",
      "From: \tRosado, Jennifer  \n",
      "Sent:\tFriday, February 01, 2002 3:56 PM\n",
      "To:\tMcquade, Jennifer\n",
      "Subject:\tRE: Conf Room\n",
      "\n",
      "It looks like 713-584 are the new prefix's, but they are as follows:\n",
      "\n",
      "713-584-1091\n",
      "713-584-1093\n",
      "713-584-1050\n",
      "713-584-1092\n",
      "\n",
      "I've not been in that room, so I would guess that the first number would be sufficient.\n"
     ]
    }
   ],
   "source": [
    "sample_email = emails['message'][0]\n",
    "print(sample_email)"
   ]
  },
  {
   "cell_type": "markdown",
   "id": "5fb80653",
   "metadata": {},
   "source": [
    "### 4.0.1 Get entire email thread...\n",
    "### 4.0.2 Include email subjects..."
   ]
  },
  {
   "cell_type": "code",
   "execution_count": 71,
   "id": "06d730cc",
   "metadata": {},
   "outputs": [],
   "source": [
    "# email_thread = []\n",
    "\n",
    "# def parse_raw_message(lines, line_no):\n",
    "#     email = {}\n",
    "#     message = ''\n",
    "#     keys_to_extract = ['from', 'to']\n",
    "    \n",
    "#     if line_no >= len(lines):\n",
    "#         return \n",
    "    \n",
    "#     for line in lines[line_no: ]:\n",
    "#         if 'Original Message' in line:\n",
    "#             return email, line_no\n",
    "            \n",
    "#         if ':' not in line:\n",
    "#             message += line.strip()\n",
    "#             email['body'] = message\n",
    "#         else:\n",
    "#             pairs = line.split(':')\n",
    "#             key = pairs[0].lower()\n",
    "#             value = pairs[1].strip()\n",
    "#             if key in keys_to_extract:\n",
    "#                 email[key] = value\n",
    "        \n",
    "#         line_no += 1\n",
    "#     return email, line_no"
   ]
  },
  {
   "cell_type": "code",
   "execution_count": 72,
   "id": "25bfac13",
   "metadata": {},
   "outputs": [],
   "source": [
    "# lines = sample_email.split('\\n')\n",
    "\n",
    "# email, next_line = parse_raw_message(lines, 0)\n",
    "# email, next_line = parse_raw_message(lines, next_line + 1)\n",
    "# email, next_line = parse_raw_message(lines, next_line + 1)"
   ]
  },
  {
   "cell_type": "markdown",
   "id": "027e6b3f",
   "metadata": {},
   "source": [
    "### 4.1 Work with the most recent email"
   ]
  },
  {
   "cell_type": "code",
   "execution_count": 73,
   "id": "e12f1325",
   "metadata": {},
   "outputs": [],
   "source": [
    "def parse_raw_message(raw_message):\n",
    "    lines = raw_message.split('\\n')\n",
    "    email = {}\n",
    "    message = ''\n",
    "    keys_to_extract = ['from', 'to']\n",
    "    \n",
    "    for line in lines:\n",
    "        if 'Original Message' in line:\n",
    "            break\n",
    "        \n",
    "        if ':' not in line:\n",
    "            message += line.strip()\n",
    "            email['body'] = message\n",
    "        else:\n",
    "            pair = line.split(':')\n",
    "            key = pair[0].lower()\n",
    "            value = pair[1].strip()\n",
    "            if key in keys_to_extract:\n",
    "                email[key] = value\n",
    "    return email\n",
    "\n",
    "def map_to_list(emails, key):\n",
    "    results = []\n",
    "    for email in emails:\n",
    "        if key not in email:\n",
    "            results.append('')\n",
    "        else:\n",
    "            results.append(email[key])\n",
    "    return results\n",
    "\n",
    "def parse_into_emails(messages):\n",
    "    emails = [parse_raw_message(message) for message in messages]\n",
    "    return {\n",
    "        'body': map_to_list(emails, 'body'),\n",
    "        'from': map_to_list(emails, 'from'),\n",
    "        'to': map_to_list(emails, 'to')\n",
    "    } "
   ]
  },
  {
   "cell_type": "code",
   "execution_count": 74,
   "id": "97e6ae9f",
   "metadata": {},
   "outputs": [
    {
     "name": "stdout",
     "output_type": "stream",
     "text": [
      "(3000, 3)\n"
     ]
    },
    {
     "data": {
      "text/html": [
       "<div>\n",
       "<style scoped>\n",
       "    .dataframe tbody tr th:only-of-type {\n",
       "        vertical-align: middle;\n",
       "    }\n",
       "\n",
       "    .dataframe tbody tr th {\n",
       "        vertical-align: top;\n",
       "    }\n",
       "\n",
       "    .dataframe thead th {\n",
       "        text-align: right;\n",
       "    }\n",
       "</style>\n",
       "<table border=\"1\" class=\"dataframe\">\n",
       "  <thead>\n",
       "    <tr style=\"text-align: right;\">\n",
       "      <th></th>\n",
       "      <th>body</th>\n",
       "      <th>from</th>\n",
       "      <th>to</th>\n",
       "    </tr>\n",
       "  </thead>\n",
       "  <tbody>\n",
       "    <tr>\n",
       "      <th>0</th>\n",
       "      <td>f..calger@enron.com, paul.choi@enron.com, chad...</td>\n",
       "      <td>jennifer.mcquade@enron.com</td>\n",
       "      <td>caroline.abramo@enron.com, tim.belden@enron.co...</td>\n",
       "    </tr>\n",
       "    <tr>\n",
       "      <th>1</th>\n",
       "      <td>Decade=09\"SCIENTECH IssueAlert\" &lt;IssueAlert@sc...</td>\n",
       "      <td>steven.kean@enron.com</td>\n",
       "      <td>bernadette.hawkins@enron.com</td>\n",
       "    </tr>\n",
       "    <tr>\n",
       "      <th>2</th>\n",
       "      <td>Kilmer stopped in to discuss where we are on t...</td>\n",
       "      <td>david.rosenberg@enron.com</td>\n",
       "      <td>rod.hayslett@enron.com, robert.kilmer@enron.com</td>\n",
       "    </tr>\n",
       "    <tr>\n",
       "      <th>3</th>\n",
       "      <td>harry.kingerski@enron.com, leslie.lawner@enron...</td>\n",
       "      <td>jeff.dasovich@enron.com</td>\n",
       "      <td>d..steffes@enron.com, paul.kaufman@enron.com, ...</td>\n",
       "    </tr>\n",
       "    <tr>\n",
       "      <th>4</th>\n",
       "      <td>Richard,Life does move on!   What is Malcomb t...</td>\n",
       "      <td>mike.mcconnell@enron.com</td>\n",
       "      <td>richard.harper@enron.com</td>\n",
       "    </tr>\n",
       "  </tbody>\n",
       "</table>\n",
       "</div>"
      ],
      "text/plain": [
       "                                                body  \\\n",
       "0  f..calger@enron.com, paul.choi@enron.com, chad...   \n",
       "1  Decade=09\"SCIENTECH IssueAlert\" <IssueAlert@sc...   \n",
       "2  Kilmer stopped in to discuss where we are on t...   \n",
       "3  harry.kingerski@enron.com, leslie.lawner@enron...   \n",
       "4  Richard,Life does move on!   What is Malcomb t...   \n",
       "\n",
       "                         from  \\\n",
       "0  jennifer.mcquade@enron.com   \n",
       "1       steven.kean@enron.com   \n",
       "2   david.rosenberg@enron.com   \n",
       "3     jeff.dasovich@enron.com   \n",
       "4    mike.mcconnell@enron.com   \n",
       "\n",
       "                                                  to  \n",
       "0  caroline.abramo@enron.com, tim.belden@enron.co...  \n",
       "1                       bernadette.hawkins@enron.com  \n",
       "2    rod.hayslett@enron.com, robert.kilmer@enron.com  \n",
       "3  d..steffes@enron.com, paul.kaufman@enron.com, ...  \n",
       "4                           richard.harper@enron.com  "
      ]
     },
     "execution_count": 74,
     "metadata": {},
     "output_type": "execute_result"
    }
   ],
   "source": [
    "email_data = pd.DataFrame(parse_into_emails(emails['message']))\n",
    "print(email_data.shape)\n",
    "email_data.head()"
   ]
  },
  {
   "cell_type": "code",
   "execution_count": 75,
   "id": "37a82b6a",
   "metadata": {},
   "outputs": [
    {
     "data": {
      "text/plain": [
       "body    0\n",
       "from    0\n",
       "to      0\n",
       "dtype: int64"
      ]
     },
     "execution_count": 75,
     "metadata": {},
     "output_type": "execute_result"
    }
   ],
   "source": [
    "email_data.isnull().sum()"
   ]
  },
  {
   "cell_type": "code",
   "execution_count": 77,
   "id": "67ec5c62",
   "metadata": {},
   "outputs": [],
   "source": [
    "# X_dense = X.todense()\n",
    "# coords = PCA(n_components=2).fit_transform(X_dense)\n",
    "# plt.scatter(coords[:,0],coords[:,1], c='r')\n",
    "# plt.show()"
   ]
  },
  {
   "cell_type": "code",
   "execution_count": 97,
   "id": "f63d2724",
   "metadata": {},
   "outputs": [],
   "source": [
    "def top_features_tfidf(row, features, top = 20):\n",
    "    top_ids = np.argsort(row)[::-1][:top]\n",
    "    top_features = [(features[i], row[i]) for i in top_ids]\n",
    "    return pd.DataFrame(top_features, columns=['features', 'score'])\n",
    "\n",
    "def top_features_in_document(X, features, row_id, top = 25):\n",
    "    row = np.squeeze(X[row_id].toarray())\n",
    "    return top_features_tfidf(row, features, top)"
   ]
  },
  {
   "cell_type": "code",
   "execution_count": 116,
   "id": "6da6502c",
   "metadata": {},
   "outputs": [],
   "source": [
    "stop_words = ENGLISH_STOP_WORDS.union(['com','enron',''])\n",
    "vect = TfidfVectorizer(stop_words=stop_words, analyzer='word')\n",
    "X = vect.fit_transform(email_data['body'])"
   ]
  },
  {
   "cell_type": "code",
   "execution_count": 118,
   "id": "c456d9aa",
   "metadata": {},
   "outputs": [
    {
     "data": {
      "text/html": [
       "<div>\n",
       "<style scoped>\n",
       "    .dataframe tbody tr th:only-of-type {\n",
       "        vertical-align: middle;\n",
       "    }\n",
       "\n",
       "    .dataframe tbody tr th {\n",
       "        vertical-align: top;\n",
       "    }\n",
       "\n",
       "    .dataframe thead th {\n",
       "        text-align: right;\n",
       "    }\n",
       "</style>\n",
       "<table border=\"1\" class=\"dataframe\">\n",
       "  <thead>\n",
       "    <tr style=\"text-align: right;\">\n",
       "      <th></th>\n",
       "      <th>features</th>\n",
       "      <th>score</th>\n",
       "    </tr>\n",
       "  </thead>\n",
       "  <tbody>\n",
       "    <tr>\n",
       "      <th>0</th>\n",
       "      <td>constellation</td>\n",
       "      <td>0.526459</td>\n",
       "    </tr>\n",
       "    <tr>\n",
       "      <th>1</th>\n",
       "      <td>plant</td>\n",
       "      <td>0.351942</td>\n",
       "    </tr>\n",
       "    <tr>\n",
       "      <th>2</th>\n",
       "      <td>nuclear</td>\n",
       "      <td>0.250400</td>\n",
       "    </tr>\n",
       "    <tr>\n",
       "      <th>3</th>\n",
       "      <td>scientech</td>\n",
       "      <td>0.162599</td>\n",
       "    </tr>\n",
       "    <tr>\n",
       "      <th>4</th>\n",
       "      <td>power</td>\n",
       "      <td>0.159789</td>\n",
       "    </tr>\n",
       "    <tr>\n",
       "      <th>5</th>\n",
       "      <td>energy</td>\n",
       "      <td>0.152585</td>\n",
       "    </tr>\n",
       "    <tr>\n",
       "      <th>6</th>\n",
       "      <td>california</td>\n",
       "      <td>0.145619</td>\n",
       "    </tr>\n",
       "    <tr>\n",
       "      <th>7</th>\n",
       "      <td>percent</td>\n",
       "      <td>0.122461</td>\n",
       "    </tr>\n",
       "    <tr>\n",
       "      <th>8</th>\n",
       "      <td>issuealert</td>\n",
       "      <td>0.110766</td>\n",
       "    </tr>\n",
       "    <tr>\n",
       "      <th>9</th>\n",
       "      <td>state</td>\n",
       "      <td>0.110657</td>\n",
       "    </tr>\n",
       "    <tr>\n",
       "      <th>10</th>\n",
       "      <td>mw</td>\n",
       "      <td>0.110450</td>\n",
       "    </tr>\n",
       "    <tr>\n",
       "      <th>11</th>\n",
       "      <td>fuel</td>\n",
       "      <td>0.104700</td>\n",
       "    </tr>\n",
       "    <tr>\n",
       "      <th>12</th>\n",
       "      <td>20the</td>\n",
       "      <td>0.102336</td>\n",
       "    </tr>\n",
       "    <tr>\n",
       "      <th>13</th>\n",
       "      <td>company</td>\n",
       "      <td>0.091987</td>\n",
       "    </tr>\n",
       "    <tr>\n",
       "      <th>14</th>\n",
       "      <td>desert</td>\n",
       "      <td>0.090333</td>\n",
       "    </tr>\n",
       "    <tr>\n",
       "      <th>15</th>\n",
       "      <td>coal</td>\n",
       "      <td>0.087117</td>\n",
       "    </tr>\n",
       "    <tr>\n",
       "      <th>16</th>\n",
       "      <td>20company</td>\n",
       "      <td>0.085770</td>\n",
       "    </tr>\n",
       "    <tr>\n",
       "      <th>17</th>\n",
       "      <td>plants</td>\n",
       "      <td>0.080892</td>\n",
       "    </tr>\n",
       "    <tr>\n",
       "      <th>18</th>\n",
       "      <td>new</td>\n",
       "      <td>0.076960</td>\n",
       "    </tr>\n",
       "    <tr>\n",
       "      <th>19</th>\n",
       "      <td>issuealerts</td>\n",
       "      <td>0.073844</td>\n",
       "    </tr>\n",
       "    <tr>\n",
       "      <th>20</th>\n",
       "      <td>based</td>\n",
       "      <td>0.072938</td>\n",
       "    </tr>\n",
       "    <tr>\n",
       "      <th>21</th>\n",
       "      <td>generation</td>\n",
       "      <td>0.071193</td>\n",
       "    </tr>\n",
       "    <tr>\n",
       "      <th>22</th>\n",
       "      <td>mix</td>\n",
       "      <td>0.067640</td>\n",
       "    </tr>\n",
       "    <tr>\n",
       "      <th>23</th>\n",
       "      <td>group</td>\n",
       "      <td>0.063381</td>\n",
       "    </tr>\n",
       "    <tr>\n",
       "      <th>24</th>\n",
       "      <td>gas</td>\n",
       "      <td>0.063007</td>\n",
       "    </tr>\n",
       "  </tbody>\n",
       "</table>\n",
       "</div>"
      ],
      "text/plain": [
       "         features     score\n",
       "0   constellation  0.526459\n",
       "1           plant  0.351942\n",
       "2         nuclear  0.250400\n",
       "3       scientech  0.162599\n",
       "4           power  0.159789\n",
       "5          energy  0.152585\n",
       "6      california  0.145619\n",
       "7         percent  0.122461\n",
       "8      issuealert  0.110766\n",
       "9           state  0.110657\n",
       "10             mw  0.110450\n",
       "11           fuel  0.104700\n",
       "12          20the  0.102336\n",
       "13        company  0.091987\n",
       "14         desert  0.090333\n",
       "15           coal  0.087117\n",
       "16      20company  0.085770\n",
       "17         plants  0.080892\n",
       "18            new  0.076960\n",
       "19    issuealerts  0.073844\n",
       "20          based  0.072938\n",
       "21     generation  0.071193\n",
       "22            mix  0.067640\n",
       "23          group  0.063381\n",
       "24            gas  0.063007"
      ]
     },
     "execution_count": 118,
     "metadata": {},
     "output_type": "execute_result"
    }
   ],
   "source": [
    "features = vect.get_feature_names_out()\n",
    "top_features_in_document(X, features, 1, 25)"
   ]
  },
  {
   "cell_type": "code",
   "execution_count": 95,
   "id": "6b1f7453",
   "metadata": {},
   "outputs": [
    {
     "name": "stdout",
     "output_type": "stream",
     "text": [
      "0      (0, 11794)\\t0.05666768844755233\\n  (0, 3893)...\n",
      "Name: 0, dtype: object\n"
     ]
    }
   ],
   "source": []
  },
  {
   "cell_type": "code",
   "execution_count": null,
   "id": "36812033",
   "metadata": {},
   "outputs": [],
   "source": []
  }
 ],
 "metadata": {
  "kernelspec": {
   "display_name": "Python 3 (ipykernel)",
   "language": "python",
   "name": "python3"
  },
  "language_info": {
   "codemirror_mode": {
    "name": "ipython",
    "version": 3
   },
   "file_extension": ".py",
   "mimetype": "text/x-python",
   "name": "python",
   "nbconvert_exporter": "python",
   "pygments_lexer": "ipython3",
   "version": "3.9.7"
  }
 },
 "nbformat": 4,
 "nbformat_minor": 5
}
